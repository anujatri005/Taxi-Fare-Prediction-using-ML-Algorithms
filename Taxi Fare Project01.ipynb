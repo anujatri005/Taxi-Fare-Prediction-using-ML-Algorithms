{
  "cells": [
    {
      "attachments": {},
      "cell_type": "markdown",
      "id": "4d307b75",
      "metadata": {
        "id": "4d307b75"
      },
      "source": [
        "**New York City Taxi Fare Prediction** **by Anuj Atri**\n",
        "\n",
        "The duty is to predict the fare amount for a taxi ride in New York City given the pickup and dropoff. While we can get a basic estimate based on just the distance between the two points, this will result in an RMSE of $5-$8, depending on the model used. The main Challenge is to do better than this using Machine Learning techniques."
      ]
    },
    {
      "cell_type": "markdown",
      "id": "5fde70fc",
      "metadata": {
        "id": "5fde70fc"
      },
      "source": [
        "**File descriptions**\n",
        "\n",
        "train.csv - Input features and target fare_amount values for the training set (about 55M rows).\n",
        "\n",
        "test.csv - Input features for the test set (about 10K rows). Your goal is to predict fare_amount for each row.\n",
        "\n",
        "sample_submission.csv - a sample submission file in the correct format (columns key and fare_amount). This file 'predicts' fare_amount to be $11.35 for all rows, which is the mean fare_amount from the training set."
      ]
    },
    {
      "cell_type": "markdown",
      "id": "3bd658bb",
      "metadata": {
        "id": "3bd658bb"
      },
      "source": [
        "**Target**"
      ]
    },
    {
      "cell_type": "markdown",
      "id": "4ef7a1ab",
      "metadata": {
        "id": "4ef7a1ab"
      },
      "source": [
        "<ul>\n",
        "<li><strong>amount</strong> - <code>float</code> dollar amount of the cost of the taxi ride.  This value is only in the training set; this is what you are predicting in the test set and it is required in your submission CSV.</li>\n",
        "</ul>"
      ]
    },
    {
      "cell_type": "code",
      "execution_count": null,
      "id": "afd45bf9",
      "metadata": {
        "id": "afd45bf9"
      },
      "outputs": [],
      "source": [
        "import pandas as pd\n",
        "import numpy as np\n",
        "import matplotlib.pyplot as plt\n",
        "import seaborn as sns\n",
        "from sklearn.model_selection import train_test_split\n",
        "from sklearn.linear_model import LinearRegression"
      ]
    },
    {
      "cell_type": "code",
      "execution_count": null,
      "id": "c5c79884",
      "metadata": {
        "id": "c5c79884",
        "outputId": "69d8395a-a8cb-4978-c768-15dabcfd91c7"
      },
      "outputs": [
        {
          "data": {
            "text/html": [
              "<div>\n",
              "<style scoped>\n",
              "    .dataframe tbody tr th:only-of-type {\n",
              "        vertical-align: middle;\n",
              "    }\n",
              "\n",
              "    .dataframe tbody tr th {\n",
              "        vertical-align: top;\n",
              "    }\n",
              "\n",
              "    .dataframe thead th {\n",
              "        text-align: right;\n",
              "    }\n",
              "</style>\n",
              "<table border=\"1\" class=\"dataframe\">\n",
              "  <thead>\n",
              "    <tr style=\"text-align: right;\">\n",
              "      <th></th>\n",
              "      <th>unique_id</th>\n",
              "      <th>amount</th>\n",
              "      <th>date_time_of_pickup</th>\n",
              "      <th>longitude_of_pickup</th>\n",
              "      <th>latitude_of_pickup</th>\n",
              "      <th>longitude_of_dropoff</th>\n",
              "      <th>latitude_of_dropoff</th>\n",
              "      <th>no_of_passenger</th>\n",
              "    </tr>\n",
              "  </thead>\n",
              "  <tbody>\n",
              "    <tr>\n",
              "      <th>0</th>\n",
              "      <td>26:21.0</td>\n",
              "      <td>4.5</td>\n",
              "      <td>2009-06-15 17:26:21 UTC</td>\n",
              "      <td>-73.844311</td>\n",
              "      <td>40.721319</td>\n",
              "      <td>-73.841610</td>\n",
              "      <td>40.712278</td>\n",
              "      <td>1</td>\n",
              "    </tr>\n",
              "    <tr>\n",
              "      <th>1</th>\n",
              "      <td>52:16.0</td>\n",
              "      <td>16.9</td>\n",
              "      <td>2010-01-05 16:52:16 UTC</td>\n",
              "      <td>-74.016048</td>\n",
              "      <td>40.711303</td>\n",
              "      <td>-73.979268</td>\n",
              "      <td>40.782004</td>\n",
              "      <td>1</td>\n",
              "    </tr>\n",
              "    <tr>\n",
              "      <th>2</th>\n",
              "      <td>35:00.0</td>\n",
              "      <td>5.7</td>\n",
              "      <td>2011-08-18 00:35:00 UTC</td>\n",
              "      <td>-73.982738</td>\n",
              "      <td>40.761270</td>\n",
              "      <td>-73.991242</td>\n",
              "      <td>40.750562</td>\n",
              "      <td>2</td>\n",
              "    </tr>\n",
              "    <tr>\n",
              "      <th>3</th>\n",
              "      <td>30:42.0</td>\n",
              "      <td>7.7</td>\n",
              "      <td>2012-04-21 04:30:42 UTC</td>\n",
              "      <td>-73.987130</td>\n",
              "      <td>40.733143</td>\n",
              "      <td>-73.991567</td>\n",
              "      <td>40.758092</td>\n",
              "      <td>1</td>\n",
              "    </tr>\n",
              "    <tr>\n",
              "      <th>4</th>\n",
              "      <td>51:00.0</td>\n",
              "      <td>5.3</td>\n",
              "      <td>2010-03-09 07:51:00 UTC</td>\n",
              "      <td>-73.968095</td>\n",
              "      <td>40.768008</td>\n",
              "      <td>-73.956655</td>\n",
              "      <td>40.783762</td>\n",
              "      <td>1</td>\n",
              "    </tr>\n",
              "  </tbody>\n",
              "</table>\n",
              "</div>"
            ],
            "text/plain": [
              "  unique_id  amount      date_time_of_pickup  longitude_of_pickup  \\\n",
              "0   26:21.0     4.5  2009-06-15 17:26:21 UTC           -73.844311   \n",
              "1   52:16.0    16.9  2010-01-05 16:52:16 UTC           -74.016048   \n",
              "2   35:00.0     5.7  2011-08-18 00:35:00 UTC           -73.982738   \n",
              "3   30:42.0     7.7  2012-04-21 04:30:42 UTC           -73.987130   \n",
              "4   51:00.0     5.3  2010-03-09 07:51:00 UTC           -73.968095   \n",
              "\n",
              "   latitude_of_pickup  longitude_of_dropoff  latitude_of_dropoff  \\\n",
              "0           40.721319            -73.841610            40.712278   \n",
              "1           40.711303            -73.979268            40.782004   \n",
              "2           40.761270            -73.991242            40.750562   \n",
              "3           40.733143            -73.991567            40.758092   \n",
              "4           40.768008            -73.956655            40.783762   \n",
              "\n",
              "   no_of_passenger  \n",
              "0                1  \n",
              "1                1  \n",
              "2                2  \n",
              "3                1  \n",
              "4                1  "
            ]
          },
          "execution_count": 8,
          "metadata": {},
          "output_type": "execute_result"
        }
      ],
      "source": [
        "df=pd.read_csv(\"https://raw.githubusercontent.com/Premalatha-success/Datasets/main/TaxiFare.csv\")\n",
        "df.head()"
      ]
    },
    {
      "cell_type": "code",
      "execution_count": null,
      "id": "0c5c4de8",
      "metadata": {
        "id": "0c5c4de8"
      },
      "outputs": [],
      "source": [
        "\n",
        "count = 0\n",
        "\n",
        "sc1tr= sc2tr= sc3tr= sc4tr= sc5tr= sc6tr= sc7tr= sc8tr= sc9tr= sc10tr= sc11tr= sc12tr= sc13tr = 0\n",
        "sc1ts= sc2ts= sc3ts= sc4ts= sc5ts= sc6ts= sc7ts= sc8ts = sc9ts= sc10ts= sc11ts= sc12ts= sc13ts = 0"
      ]
    },
    {
      "cell_type": "markdown",
      "id": "0eb34705",
      "metadata": {
        "id": "0eb34705"
      },
      "source": [
        "**Numerical Analysis**"
      ]
    },
    {
      "cell_type": "code",
      "execution_count": null,
      "id": "42b1fa58",
      "metadata": {
        "id": "42b1fa58",
        "outputId": "3e79e521-8fb9-4129-ce0c-a66837bea98d"
      },
      "outputs": [
        {
          "data": {
            "text/plain": [
              "(50000, 8)"
            ]
          },
          "execution_count": 11,
          "metadata": {},
          "output_type": "execute_result"
        }
      ],
      "source": [
        "df.shape"
      ]
    },
    {
      "cell_type": "code",
      "execution_count": null,
      "id": "75ecfbb6",
      "metadata": {
        "id": "75ecfbb6",
        "outputId": "2a8af289-a546-4831-8995-172b6cb114cb"
      },
      "outputs": [
        {
          "data": {
            "text/html": [
              "<div>\n",
              "<style scoped>\n",
              "    .dataframe tbody tr th:only-of-type {\n",
              "        vertical-align: middle;\n",
              "    }\n",
              "\n",
              "    .dataframe tbody tr th {\n",
              "        vertical-align: top;\n",
              "    }\n",
              "\n",
              "    .dataframe thead th {\n",
              "        text-align: right;\n",
              "    }\n",
              "</style>\n",
              "<table border=\"1\" class=\"dataframe\">\n",
              "  <thead>\n",
              "    <tr style=\"text-align: right;\">\n",
              "      <th></th>\n",
              "      <th>count</th>\n",
              "      <th>unique</th>\n",
              "      <th>top</th>\n",
              "      <th>freq</th>\n",
              "      <th>mean</th>\n",
              "      <th>std</th>\n",
              "      <th>min</th>\n",
              "      <th>25%</th>\n",
              "      <th>50%</th>\n",
              "      <th>75%</th>\n",
              "      <th>max</th>\n",
              "    </tr>\n",
              "  </thead>\n",
              "  <tbody>\n",
              "    <tr>\n",
              "      <th>unique_id</th>\n",
              "      <td>50000</td>\n",
              "      <td>3597</td>\n",
              "      <td>26:00.0</td>\n",
              "      <td>457</td>\n",
              "      <td>NaN</td>\n",
              "      <td>NaN</td>\n",
              "      <td>NaN</td>\n",
              "      <td>NaN</td>\n",
              "      <td>NaN</td>\n",
              "      <td>NaN</td>\n",
              "      <td>NaN</td>\n",
              "    </tr>\n",
              "    <tr>\n",
              "      <th>amount</th>\n",
              "      <td>50000.0</td>\n",
              "      <td>NaN</td>\n",
              "      <td>NaN</td>\n",
              "      <td>NaN</td>\n",
              "      <td>11.364171</td>\n",
              "      <td>9.685557</td>\n",
              "      <td>-5.0</td>\n",
              "      <td>6.0</td>\n",
              "      <td>8.5</td>\n",
              "      <td>12.5</td>\n",
              "      <td>200.0</td>\n",
              "    </tr>\n",
              "    <tr>\n",
              "      <th>date_time_of_pickup</th>\n",
              "      <td>50000</td>\n",
              "      <td>49555</td>\n",
              "      <td>2011-09-03 01:30:00 UTC</td>\n",
              "      <td>3</td>\n",
              "      <td>NaN</td>\n",
              "      <td>NaN</td>\n",
              "      <td>NaN</td>\n",
              "      <td>NaN</td>\n",
              "      <td>NaN</td>\n",
              "      <td>NaN</td>\n",
              "      <td>NaN</td>\n",
              "    </tr>\n",
              "    <tr>\n",
              "      <th>longitude_of_pickup</th>\n",
              "      <td>50000.0</td>\n",
              "      <td>NaN</td>\n",
              "      <td>NaN</td>\n",
              "      <td>NaN</td>\n",
              "      <td>-72.509756</td>\n",
              "      <td>10.39386</td>\n",
              "      <td>-75.423848</td>\n",
              "      <td>-73.992062</td>\n",
              "      <td>-73.98184</td>\n",
              "      <td>-73.967148</td>\n",
              "      <td>40.783472</td>\n",
              "    </tr>\n",
              "    <tr>\n",
              "      <th>latitude_of_pickup</th>\n",
              "      <td>50000.0</td>\n",
              "      <td>NaN</td>\n",
              "      <td>NaN</td>\n",
              "      <td>NaN</td>\n",
              "      <td>39.933759</td>\n",
              "      <td>6.224857</td>\n",
              "      <td>-74.006893</td>\n",
              "      <td>40.73488</td>\n",
              "      <td>40.752678</td>\n",
              "      <td>40.76736</td>\n",
              "      <td>401.083332</td>\n",
              "    </tr>\n",
              "    <tr>\n",
              "      <th>longitude_of_dropoff</th>\n",
              "      <td>50000.0</td>\n",
              "      <td>NaN</td>\n",
              "      <td>NaN</td>\n",
              "      <td>NaN</td>\n",
              "      <td>-72.504616</td>\n",
              "      <td>10.40757</td>\n",
              "      <td>-84.654241</td>\n",
              "      <td>-73.991152</td>\n",
              "      <td>-73.980082</td>\n",
              "      <td>-73.963584</td>\n",
              "      <td>40.851027</td>\n",
              "    </tr>\n",
              "    <tr>\n",
              "      <th>latitude_of_dropoff</th>\n",
              "      <td>50000.0</td>\n",
              "      <td>NaN</td>\n",
              "      <td>NaN</td>\n",
              "      <td>NaN</td>\n",
              "      <td>39.926251</td>\n",
              "      <td>6.014737</td>\n",
              "      <td>-74.006377</td>\n",
              "      <td>40.734372</td>\n",
              "      <td>40.753372</td>\n",
              "      <td>40.768167</td>\n",
              "      <td>43.41519</td>\n",
              "    </tr>\n",
              "    <tr>\n",
              "      <th>no_of_passenger</th>\n",
              "      <td>50000.0</td>\n",
              "      <td>NaN</td>\n",
              "      <td>NaN</td>\n",
              "      <td>NaN</td>\n",
              "      <td>1.66784</td>\n",
              "      <td>1.289195</td>\n",
              "      <td>0.0</td>\n",
              "      <td>1.0</td>\n",
              "      <td>1.0</td>\n",
              "      <td>2.0</td>\n",
              "      <td>6.0</td>\n",
              "    </tr>\n",
              "  </tbody>\n",
              "</table>\n",
              "</div>"
            ],
            "text/plain": [
              "                        count unique                      top freq       mean  \\\n",
              "unique_id               50000   3597                  26:00.0  457        NaN   \n",
              "amount                50000.0    NaN                      NaN  NaN  11.364171   \n",
              "date_time_of_pickup     50000  49555  2011-09-03 01:30:00 UTC    3        NaN   \n",
              "longitude_of_pickup   50000.0    NaN                      NaN  NaN -72.509756   \n",
              "latitude_of_pickup    50000.0    NaN                      NaN  NaN  39.933759   \n",
              "longitude_of_dropoff  50000.0    NaN                      NaN  NaN -72.504616   \n",
              "latitude_of_dropoff   50000.0    NaN                      NaN  NaN  39.926251   \n",
              "no_of_passenger       50000.0    NaN                      NaN  NaN    1.66784   \n",
              "\n",
              "                           std        min        25%        50%        75%  \\\n",
              "unique_id                  NaN        NaN        NaN        NaN        NaN   \n",
              "amount                9.685557       -5.0        6.0        8.5       12.5   \n",
              "date_time_of_pickup        NaN        NaN        NaN        NaN        NaN   \n",
              "longitude_of_pickup   10.39386 -75.423848 -73.992062  -73.98184 -73.967148   \n",
              "latitude_of_pickup    6.224857 -74.006893   40.73488  40.752678   40.76736   \n",
              "longitude_of_dropoff  10.40757 -84.654241 -73.991152 -73.980082 -73.963584   \n",
              "latitude_of_dropoff   6.014737 -74.006377  40.734372  40.753372  40.768167   \n",
              "no_of_passenger       1.289195        0.0        1.0        1.0        2.0   \n",
              "\n",
              "                             max  \n",
              "unique_id                    NaN  \n",
              "amount                     200.0  \n",
              "date_time_of_pickup          NaN  \n",
              "longitude_of_pickup    40.783472  \n",
              "latitude_of_pickup    401.083332  \n",
              "longitude_of_dropoff   40.851027  \n",
              "latitude_of_dropoff     43.41519  \n",
              "no_of_passenger              6.0  "
            ]
          },
          "execution_count": 12,
          "metadata": {},
          "output_type": "execute_result"
        }
      ],
      "source": [
        "df.describe(include= 'all').T"
      ]
    },
    {
      "cell_type": "code",
      "execution_count": null,
      "id": "2c907b7e",
      "metadata": {
        "id": "2c907b7e",
        "outputId": "dee3fce2-8ada-4fca-83d7-b69c9f68d576"
      },
      "outputs": [
        {
          "name": "stdout",
          "output_type": "stream",
          "text": [
            "<class 'pandas.core.frame.DataFrame'>\n",
            "RangeIndex: 50000 entries, 0 to 49999\n",
            "Data columns (total 8 columns):\n",
            " #   Column                Non-Null Count  Dtype  \n",
            "---  ------                --------------  -----  \n",
            " 0   unique_id             50000 non-null  object \n",
            " 1   amount                50000 non-null  float64\n",
            " 2   date_time_of_pickup   50000 non-null  object \n",
            " 3   longitude_of_pickup   50000 non-null  float64\n",
            " 4   latitude_of_pickup    50000 non-null  float64\n",
            " 5   longitude_of_dropoff  50000 non-null  float64\n",
            " 6   latitude_of_dropoff   50000 non-null  float64\n",
            " 7   no_of_passenger       50000 non-null  int64  \n",
            "dtypes: float64(5), int64(1), object(2)\n",
            "memory usage: 3.1+ MB\n"
          ]
        }
      ],
      "source": [
        "df.info()"
      ]
    },
    {
      "cell_type": "code",
      "execution_count": null,
      "id": "e2ff363f",
      "metadata": {
        "id": "e2ff363f",
        "outputId": "d77480d7-5460-4f08-c561-a8c471250473"
      },
      "outputs": [
        {
          "data": {
            "text/plain": [
              "unique_id                object\n",
              "amount                  float64\n",
              "date_time_of_pickup      object\n",
              "longitude_of_pickup     float64\n",
              "latitude_of_pickup      float64\n",
              "longitude_of_dropoff    float64\n",
              "latitude_of_dropoff     float64\n",
              "no_of_passenger           int64\n",
              "dtype: object"
            ]
          },
          "execution_count": 14,
          "metadata": {},
          "output_type": "execute_result"
        }
      ],
      "source": [
        "df.dtypes"
      ]
    },
    {
      "cell_type": "markdown",
      "id": "7cb4bfb3",
      "metadata": {
        "id": "7cb4bfb3"
      },
      "source": [
        "**Data Visualiztion**"
      ]
    },
    {
      "cell_type": "code",
      "execution_count": null,
      "id": "a59dda99",
      "metadata": {
        "id": "a59dda99",
        "outputId": "9225ac32-5771-491b-d9ea-e6b531ed60f7"
      },
      "outputs": [
        {
          "data": {
            "text/plain": [
              "<AxesSubplot:xlabel='no_of_passenger', ylabel='Count'>"
            ]
          },
          "execution_count": 15,
          "metadata": {},
          "output_type": "execute_result"
        },
        {
          "data": {
            "image/png": "[encoded data removed]",
            "text/plain": [
              "<Figure size 720x360 with 1 Axes>"
            ]
          },
          "metadata": {
            "needs_background": "light"
          },
          "output_type": "display_data"
        }
      ],
      "source": [
        "plt.figure(figsize = (10,5))\n",
        "\n",
        "sns.histplot(x='no_of_passenger', data=df)"
      ]
    },
    {
      "cell_type": "code",
      "execution_count": null,
      "id": "4e183acd",
      "metadata": {
        "id": "4e183acd",
        "outputId": "da4ad95e-3f95-4584-c3b4-ae1b430f09ab"
      },
      "outputs": [
        {
          "data": {
            "text/plain": [
              "<AxesSubplot:xlabel='no_of_passenger'>"
            ]
          },
          "execution_count": 16,
          "metadata": {},
          "output_type": "execute_result"
        },
        {
          "data": {
            "image/png": "[encoded data removed]",
            "text/plain": [
              "<Figure size 720x360 with 1 Axes>"
            ]
          },
          "metadata": {
            "needs_background": "light"
          },
          "output_type": "display_data"
        }
      ],
      "source": [
        "plt.figure(figsize = (10,5))\n",
        "\n",
        "sns.boxplot( x=\"no_of_passenger\", data=df)"
      ]
    },
    {
      "cell_type": "code",
      "execution_count": null,
      "id": "c25a12a3",
      "metadata": {
        "id": "c25a12a3",
        "outputId": "e88ae0e1-a3ad-4f4c-c208-f3be2924ab69"
      },
      "outputs": [
        {
          "data": {
            "text/plain": [
              "<AxesSubplot:xlabel='longitude_of_pickup'>"
            ]
          },
          "execution_count": 17,
          "metadata": {},
          "output_type": "execute_result"
        },
        {
          "data": {
            "image/png": "[encoded data removed]",
            "text/plain": [
              "<Figure size 720x360 with 1 Axes>"
            ]
          },
          "metadata": {
            "needs_background": "light"
          },
          "output_type": "display_data"
        }
      ],
      "source": [
        "plt.figure(figsize = (10,5))\n",
        "\n",
        "sns.boxplot( x=\"longitude_of_pickup\", data=df)"
      ]
    },
    {
      "cell_type": "code",
      "execution_count": null,
      "id": "98da607b",
      "metadata": {
        "id": "98da607b",
        "outputId": "b38693a9-6554-4be7-d6bf-bb2778bafb36"
      },
      "outputs": [
        {
          "data": {
            "text/plain": [
              "<AxesSubplot:xlabel='latitude_of_pickup'>"
            ]
          },
          "execution_count": 18,
          "metadata": {},
          "output_type": "execute_result"
        },
        {
          "data": {
            "image/png": "[encoded data removed]",
            "text/plain": [
              "<Figure size 720x360 with 1 Axes>"
            ]
          },
          "metadata": {
            "needs_background": "light"
          },
          "output_type": "display_data"
        }
      ],
      "source": [
        "plt.figure(figsize = (10,5))\n",
        "\n",
        "sns.boxplot( x=\"latitude_of_pickup\", data=df)"
      ]
    },
    {
      "cell_type": "code",
      "execution_count": null,
      "id": "ab2b57f5",
      "metadata": {
        "id": "ab2b57f5",
        "outputId": "664b64c6-5fc6-4921-fe58-e8a7087835a3"
      },
      "outputs": [
        {
          "data": {
            "text/plain": [
              "<AxesSubplot:xlabel='longitude_of_dropoff'>"
            ]
          },
          "execution_count": 19,
          "metadata": {},
          "output_type": "execute_result"
        },
        {
          "data": {
            "image/png": "[encoded data removed]",
            "text/plain": [
              "<Figure size 720x360 with 1 Axes>"
            ]
          },
          "metadata": {
            "needs_background": "light"
          },
          "output_type": "display_data"
        }
      ],
      "source": [
        "plt.figure(figsize = (10,5))\n",
        "\n",
        "sns.boxplot( x=\"longitude_of_dropoff\", data=df)"
      ]
    },
    {
      "cell_type": "code",
      "execution_count": null,
      "id": "151f797e",
      "metadata": {
        "id": "151f797e",
        "outputId": "0fd45773-3b76-4c2f-e803-17c6fa439c43"
      },
      "outputs": [
        {
          "data": {
            "text/plain": [
              "<AxesSubplot:xlabel='latitude_of_dropoff'>"
            ]
          },
          "execution_count": 20,
          "metadata": {},
          "output_type": "execute_result"
        },
        {
          "data": {
            "image/png": "[encoded data removed]",
            "text/plain": [
              "<Figure size 720x360 with 1 Axes>"
            ]
          },
          "metadata": {
            "needs_background": "light"
          },
          "output_type": "display_data"
        }
      ],
      "source": [
        "plt.figure(figsize = (10,5))\n",
        "\n",
        "sns.boxplot( x=\"latitude_of_dropoff\", data=df)"
      ]
    },
    {
      "cell_type": "code",
      "execution_count": null,
      "id": "d138fac0",
      "metadata": {
        "id": "d138fac0",
        "outputId": "0faa3a5a-20ee-430b-d1e4-33ce7f210813"
      },
      "outputs": [
        {
          "data": {
            "text/plain": [
              "<AxesSubplot:>"
            ]
          },
          "execution_count": 21,
          "metadata": {},
          "output_type": "execute_result"
        },
        {
          "data": {
            "image/png": "[encoded data removed]",
            "text/plain": [
              "<Figure size 1080x576 with 2 Axes>"
            ]
          },
          "metadata": {
            "needs_background": "light"
          },
          "output_type": "display_data"
        }
      ],
      "source": [
        "plt.figure(figsize = (15, 8))\n",
        "corr = df.corr()\n",
        "sns.heatmap(corr, annot=True,cmap=\"YlGnBu\")"
      ]
    },
    {
      "cell_type": "markdown",
      "id": "3be7e664",
      "metadata": {
        "id": "3be7e664"
      },
      "source": [
        "** Missing Values**"
      ]
    },
    {
      "cell_type": "code",
      "execution_count": null,
      "id": "50b507e4",
      "metadata": {
        "id": "50b507e4",
        "outputId": "280c7321-2925-4148-a70c-1e7d1790a0a6"
      },
      "outputs": [
        {
          "data": {
            "text/plain": [
              "unique_id               0\n",
              "amount                  0\n",
              "date_time_of_pickup     0\n",
              "longitude_of_pickup     0\n",
              "latitude_of_pickup      0\n",
              "longitude_of_dropoff    0\n",
              "latitude_of_dropoff     0\n",
              "no_of_passenger         0\n",
              "dtype: int64"
            ]
          },
          "execution_count": 22,
          "metadata": {},
          "output_type": "execute_result"
        }
      ],
      "source": [
        "df.isnull().sum()"
      ]
    },
    {
      "cell_type": "markdown",
      "id": "471ed181",
      "metadata": {
        "id": "471ed181"
      },
      "source": [
        "**Duplicate Values**"
      ]
    },
    {
      "cell_type": "code",
      "execution_count": null,
      "id": "8da7a81f",
      "metadata": {
        "id": "8da7a81f",
        "outputId": "335edf36-5af9-490c-8310-7bccecc74a87"
      },
      "outputs": [
        {
          "data": {
            "text/plain": [
              "0"
            ]
          },
          "execution_count": 23,
          "metadata": {},
          "output_type": "execute_result"
        }
      ],
      "source": [
        "df.duplicated().sum()"
      ]
    },
    {
      "cell_type": "code",
      "execution_count": null,
      "id": "62579f0e",
      "metadata": {
        "id": "62579f0e",
        "outputId": "62444961-3fa9-4bf6-d0f7-541cd939f6cc"
      },
      "outputs": [
        {
          "data": {
            "text/plain": [
              "(50000, 8)"
            ]
          },
          "execution_count": 24,
          "metadata": {},
          "output_type": "execute_result"
        }
      ],
      "source": [
        "lst = list(df.index)\n",
        "lst.count(16396)\n",
        "df.shape"
      ]
    },
    {
      "cell_type": "code",
      "execution_count": null,
      "id": "c5b62d03",
      "metadata": {
        "id": "c5b62d03"
      },
      "outputs": [],
      "source": [
        "# df.reset_index(inplace = True, drop = True) -> use this line after dropping columns to reset index.\n",
        "# Code gives error otherwise.\n",
        "\n",
        "zero_coord = np.where(df['longitude_of_pickup'] == 0.000000)\n",
        "df.drop(zero_coord[0], inplace= True)\n",
        "df.reset_index(inplace = True, drop = True)"
      ]
    },
    {
      "cell_type": "code",
      "execution_count": null,
      "id": "dbd2703f",
      "metadata": {
        "id": "dbd2703f",
        "outputId": "87f2cf19-900f-4726-dca1-10daa43070c1"
      },
      "outputs": [
        {
          "data": {
            "text/plain": [
              "(49045, 8)"
            ]
          },
          "execution_count": 26,
          "metadata": {},
          "output_type": "execute_result"
        }
      ],
      "source": [
        "df.shape"
      ]
    },
    {
      "cell_type": "code",
      "execution_count": null,
      "id": "39499a9f",
      "metadata": {
        "id": "39499a9f"
      },
      "outputs": [],
      "source": [
        "zero_coord = np.where(df['latitude_of_pickup'] == 0.000000)\n",
        "df.drop(zero_coord[0], inplace= True)\n",
        "df.reset_index(inplace = True, drop = True)"
      ]
    },
    {
      "cell_type": "code",
      "execution_count": null,
      "id": "3e277c77",
      "metadata": {
        "id": "3e277c77",
        "outputId": "6145192f-973d-41ed-9540-33277515459e"
      },
      "outputs": [
        {
          "data": {
            "text/plain": [
              "(49043, 8)"
            ]
          },
          "execution_count": 28,
          "metadata": {},
          "output_type": "execute_result"
        }
      ],
      "source": [
        "df.shape"
      ]
    },
    {
      "cell_type": "code",
      "execution_count": null,
      "id": "a018d0db",
      "metadata": {
        "id": "a018d0db"
      },
      "outputs": [],
      "source": [
        "zero_coord = np.where(df['longitude_of_dropoff'] == 0.000000)\n",
        "df.drop(zero_coord[0], inplace= True)\n",
        "df.reset_index(inplace = True, drop = True)"
      ]
    },
    {
      "cell_type": "code",
      "execution_count": null,
      "id": "608e1bd7",
      "metadata": {
        "id": "608e1bd7",
        "outputId": "1c45d6ea-7f8f-4ad3-d3cb-c8e4d4a7cd24"
      },
      "outputs": [
        {
          "data": {
            "text/plain": [
              "(49000, 8)"
            ]
          },
          "execution_count": 30,
          "metadata": {},
          "output_type": "execute_result"
        }
      ],
      "source": [
        "df.shape"
      ]
    },
    {
      "cell_type": "code",
      "execution_count": null,
      "id": "9e99d753",
      "metadata": {
        "id": "9e99d753"
      },
      "outputs": [],
      "source": [
        "zero_coord = np.where(df['latitude_of_dropoff'] == 0.000000)\n",
        "df.drop(zero_coord[0], inplace= True)\n",
        "df.reset_index(inplace = True, drop = True)"
      ]
    },
    {
      "cell_type": "code",
      "execution_count": null,
      "id": "fde26793",
      "metadata": {
        "id": "fde26793",
        "outputId": "5c29cd85-a315-456b-ffa5-19b9c3aae7b0"
      },
      "outputs": [
        {
          "data": {
            "text/plain": [
              "(49000, 8)"
            ]
          },
          "execution_count": 32,
          "metadata": {},
          "output_type": "execute_result"
        }
      ],
      "source": [
        "df.shape"
      ]
    },
    {
      "cell_type": "markdown",
      "id": "0e409eb1",
      "metadata": {
        "id": "0e409eb1"
      },
      "source": [
        "**Approximating latitudes and longitudes**"
      ]
    },
    {
      "cell_type": "code",
      "execution_count": 2,
      "id": "4ff098c4",
      "metadata": {
        "id": "4ff098c4"
      },
      "outputs": [],
      "source": [
        "import copy\n",
        "\n",
        "def approx_coordinates(df, column):\n",
        "    df = copy.copy(df)\n",
        "    df = df.sort_values([column])\n",
        "    loop_counter = len(df[column]) - 1\n",
        "    changed = 0\n",
        "    \n",
        "    for i in range(loop_counter):\n",
        "        diff = df[column].loc[i+1] - df[column].loc[i]\n",
        "        if(abs(diff) <= 0.000999):\n",
        "            df[column].loc[i+1] = df[column].loc[i]\n",
        "            changed = changed + 1\n",
        "    print(\"Total Changed:\", changed)\n",
        "    \n",
        "    return df[column]"
      ]
    },
    {
      "cell_type": "code",
      "execution_count": null,
      "id": "212d701c",
      "metadata": {
        "id": "212d701c"
      },
      "outputs": [],
      "source": [
        "df['longitude_of_pickup']= approx_coordinates(df, 'longitude_of_pickup')"
      ]
    },
    {
      "cell_type": "code",
      "execution_count": null,
      "id": "9ec32398",
      "metadata": {
        "id": "9ec32398"
      },
      "outputs": [],
      "source": [
        "#df['longitude_of_pickup'].value_counts().sort_values(ascending=False)"
      ]
    },
    {
      "cell_type": "code",
      "execution_count": null,
      "id": "5b8cff70",
      "metadata": {
        "id": "5b8cff70",
        "outputId": "26460c6c-4f34-4569-907f-8bfd36d91900"
      },
      "outputs": [
        {
          "name": "stdout",
          "output_type": "stream",
          "text": [
            "Total Changed: 1268\n"
          ]
        }
      ],
      "source": [
        "df['latitude_of_pickup']= approx_coordinates(df, 'latitude_of_pickup')"
      ]
    },
    {
      "cell_type": "code",
      "execution_count": null,
      "id": "fe09ce25",
      "metadata": {
        "id": "fe09ce25"
      },
      "outputs": [],
      "source": [
        "#df['latitude_of_pickup'].value_counts().sort_values(ascending=False)"
      ]
    },
    {
      "cell_type": "code",
      "execution_count": null,
      "id": "92ffc797",
      "metadata": {
        "id": "92ffc797",
        "outputId": "de9e909c-7031-4fd5-9034-a316c99d1df9"
      },
      "outputs": [
        {
          "name": "stdout",
          "output_type": "stream",
          "text": [
            "Total Changed: 1501\n"
          ]
        }
      ],
      "source": [
        "df['longitude_of_dropoff']= approx_coordinates(df, 'longitude_of_dropoff')"
      ]
    },
    {
      "cell_type": "code",
      "execution_count": null,
      "id": "e41ed77c",
      "metadata": {
        "id": "e41ed77c"
      },
      "outputs": [],
      "source": [
        "#df['longitude_of_dropoff'].value_counts().sort_values(ascending=False)"
      ]
    },
    {
      "cell_type": "code",
      "execution_count": null,
      "id": "4244e65c",
      "metadata": {
        "id": "4244e65c",
        "outputId": "382b3f1a-d8c1-431c-b0b1-0da05bf426c9"
      },
      "outputs": [
        {
          "name": "stdout",
          "output_type": "stream",
          "text": [
            "Total Changed: 1140\n"
          ]
        }
      ],
      "source": [
        "df['latitude_of_dropoff']= approx_coordinates(df, 'latitude_of_dropoff')"
      ]
    },
    {
      "cell_type": "code",
      "execution_count": null,
      "id": "bc7e1c89",
      "metadata": {
        "id": "bc7e1c89"
      },
      "outputs": [],
      "source": [
        "#df['latitude_of_dropoff'].value_counts().sort_values(ascending=False)"
      ]
    },
    {
      "cell_type": "markdown",
      "id": "498bfd0d",
      "metadata": {
        "id": "498bfd0d"
      },
      "source": [
        "**Removing the outliers**"
      ]
    },
    {
      "cell_type": "code",
      "execution_count": null,
      "id": "d019dd18",
      "metadata": {
        "id": "d019dd18"
      },
      "outputs": [],
      "source": [
        "import copy\n",
        "\n",
        "def remove_outliers(df, column):\n",
        "    # IQR\n",
        "    Q1 = np.percentile(df[column], 25,\n",
        "                    interpolation = 'midpoint')\n",
        "\n",
        "    Q3 = np.percentile(df[column], 75,\n",
        "                    interpolation = 'midpoint')\n",
        "    IQR = Q3 - Q1\n",
        "\n",
        "    print(\"Old Shape: \", df.shape)\n",
        "    \n",
        "    # Upper bound\n",
        "    upper = np.where(df[column] >= (Q3+1.5*IQR))\n",
        "    df.drop(upper[0], inplace= True)\n",
        "    df.reset_index(inplace = True, drop = True)\n",
        "\n",
        "     # Lower bound\n",
        "    lower = np.where(df[column] <= (Q1-1.5*IQR))\n",
        "    df.drop(lower[0], inplace= True)\n",
        "    df.reset_index(inplace = True, drop = True)\n",
        "\n",
        "    print(\"New Shape: \", df.shape)\n",
        "    sns.boxplot(x=column, data=df)\n",
        "    \n",
        "    \n",
        "    return df"
      ]
    },
    {
      "cell_type": "code",
      "execution_count": null,
      "id": "bf415e65",
      "metadata": {
        "id": "bf415e65"
      },
      "outputs": [],
      "source": [
        "#df = remove_outliers(df, 'longitude_of_pickup')"
      ]
    },
    {
      "cell_type": "code",
      "execution_count": null,
      "id": "b71791e8",
      "metadata": {
        "id": "b71791e8"
      },
      "outputs": [],
      "source": [
        "#df = remove_outliers(df, 'latitude_of_pickup')"
      ]
    },
    {
      "cell_type": "code",
      "execution_count": null,
      "id": "95fab23d",
      "metadata": {
        "id": "95fab23d"
      },
      "outputs": [],
      "source": [
        "#df = remove_outliers(df, 'longitude_of_dropoff')"
      ]
    },
    {
      "cell_type": "code",
      "execution_count": null,
      "id": "b2ee1577",
      "metadata": {
        "id": "b2ee1577"
      },
      "outputs": [],
      "source": [
        "#df = remove_outliers(df, 'latitude_of_dropoff')"
      ]
    },
    {
      "cell_type": "code",
      "execution_count": null,
      "id": "c0a6c283",
      "metadata": {
        "id": "c0a6c283"
      },
      "outputs": [],
      "source": [
        "#df = remove_outliers(df, 'amount')"
      ]
    },
    {
      "cell_type": "code",
      "execution_count": null,
      "id": "17bb0405",
      "metadata": {
        "id": "17bb0405"
      },
      "outputs": [],
      "source": [
        "df.drop(np.where(df['no_of_passenger'] == 4)[0], inplace= True)\n",
        "df.reset_index(inplace = True, drop = True)"
      ]
    },
    {
      "cell_type": "code",
      "execution_count": null,
      "id": "0b38b828",
      "metadata": {
        "id": "0b38b828"
      },
      "outputs": [],
      "source": [
        "df.drop(np.where(df['no_of_passenger'] == 6)[0], inplace= True)\n",
        "df.reset_index(inplace = True, drop = True)"
      ]
    },
    {
      "cell_type": "code",
      "execution_count": null,
      "id": "7731212b",
      "metadata": {
        "id": "7731212b",
        "outputId": "16f08ab5-3431-42a6-b486-27503a6e255d"
      },
      "outputs": [
        {
          "data": {
            "text/plain": [
              "(47029, 8)"
            ]
          },
          "execution_count": 50,
          "metadata": {},
          "output_type": "execute_result"
        }
      ],
      "source": [
        "df.shape"
      ]
    },
    {
      "cell_type": "markdown",
      "id": "5ce2541f",
      "metadata": {
        "id": "5ce2541f"
      },
      "source": [
        "Invalid Data"
      ]
    },
    {
      "cell_type": "code",
      "execution_count": null,
      "id": "1cab7bc5",
      "metadata": {
        "id": "1cab7bc5"
      },
      "outputs": [],
      "source": [
        "# There are some negative amount values\n",
        "\n",
        "negative_amounts = np.where(df['amount'] <= 0)\n",
        "df.drop(negative_amounts[0], inplace= True)\n",
        "df.reset_index(inplace = True, drop = True)"
      ]
    },
    {
      "cell_type": "code",
      "execution_count": null,
      "id": "d4d849eb",
      "metadata": {
        "id": "d4d849eb",
        "outputId": "778e30a2-04c4-4f32-ec87-151b5a91a9a1"
      },
      "outputs": [
        {
          "data": {
            "text/plain": [
              "(47022, 8)"
            ]
          },
          "execution_count": 52,
          "metadata": {},
          "output_type": "execute_result"
        }
      ],
      "source": [
        "df.shape"
      ]
    },
    {
      "cell_type": "code",
      "execution_count": null,
      "id": "04ee1958",
      "metadata": {
        "id": "04ee1958",
        "outputId": "3751fefc-2cf8-4f33-a005-35051531c5f1"
      },
      "outputs": [
        {
          "data": {
            "text/plain": [
              "unique_id                object\n",
              "amount                  float64\n",
              "date_time_of_pickup      object\n",
              "longitude_of_pickup     float64\n",
              "latitude_of_pickup      float64\n",
              "longitude_of_dropoff    float64\n",
              "latitude_of_dropoff     float64\n",
              "no_of_passenger           int64\n",
              "dtype: object"
            ]
          },
          "execution_count": 53,
          "metadata": {},
          "output_type": "execute_result"
        }
      ],
      "source": [
        "df.dtypes"
      ]
    },
    {
      "cell_type": "markdown",
      "id": "968e1869",
      "metadata": {
        "id": "968e1869"
      },
      "source": [
        "date_time_of_pickup column is of object type"
      ]
    },
    {
      "cell_type": "code",
      "execution_count": null,
      "id": "a1059168",
      "metadata": {
        "id": "a1059168"
      },
      "outputs": [],
      "source": [
        "df['date_time_of_pickup'] = pd.to_datetime(df['date_time_of_pickup'])"
      ]
    },
    {
      "cell_type": "code",
      "execution_count": null,
      "id": "7f36d477",
      "metadata": {
        "id": "7f36d477",
        "outputId": "cb521688-1dca-4ae6-d0e9-abd2eee297a5"
      },
      "outputs": [
        {
          "data": {
            "text/plain": [
              "unique_id                            object\n",
              "amount                              float64\n",
              "date_time_of_pickup     datetime64[ns, UTC]\n",
              "longitude_of_pickup                 float64\n",
              "latitude_of_pickup                  float64\n",
              "longitude_of_dropoff                float64\n",
              "latitude_of_dropoff                 float64\n",
              "no_of_passenger                       int64\n",
              "dtype: object"
            ]
          },
          "execution_count": 55,
          "metadata": {},
          "output_type": "execute_result"
        }
      ],
      "source": [
        "df.dtypes"
      ]
    },
    {
      "cell_type": "code",
      "execution_count": null,
      "id": "25b45268",
      "metadata": {
        "id": "25b45268"
      },
      "outputs": [],
      "source": [
        "import datetime as dt\n",
        "\n",
        "year = df['date_time_of_pickup'].dt.year"
      ]
    },
    {
      "cell_type": "code",
      "execution_count": null,
      "id": "609ce4ea",
      "metadata": {
        "id": "609ce4ea",
        "outputId": "7346e69f-bdfa-4b30-8ecb-47cbfe803e0e"
      },
      "outputs": [
        {
          "data": {
            "text/plain": [
              "2009    7429\n",
              "2010    7290\n",
              "2011    7402\n",
              "2012    7462\n",
              "2013    7253\n",
              "2014    6985\n",
              "2015    3201\n",
              "Name: date_time_of_pickup, dtype: int64"
            ]
          },
          "execution_count": 57,
          "metadata": {},
          "output_type": "execute_result"
        }
      ],
      "source": [
        "year.value_counts().sort_index()"
      ]
    },
    {
      "cell_type": "markdown",
      "id": "86cbb9b4",
      "metadata": {
        "id": "86cbb9b4"
      },
      "source": [
        "Data entry for year starting from 2009 to 2015"
      ]
    },
    {
      "cell_type": "code",
      "execution_count": null,
      "id": "a34151bc",
      "metadata": {
        "id": "a34151bc"
      },
      "outputs": [],
      "source": [
        "month = df['date_time_of_pickup'].dt.month"
      ]
    },
    {
      "cell_type": "code",
      "execution_count": null,
      "id": "179bfe8b",
      "metadata": {
        "id": "179bfe8b",
        "outputId": "cade9933-fd32-4f91-db7f-214d95a18d4e"
      },
      "outputs": [
        {
          "data": {
            "text/plain": [
              "1     4289\n",
              "2     4074\n",
              "3     4352\n",
              "4     4269\n",
              "5     4331\n",
              "6     4236\n",
              "7     3432\n",
              "8     3340\n",
              "9     3588\n",
              "10    3821\n",
              "11    3521\n",
              "12    3769\n",
              "Name: date_time_of_pickup, dtype: int64"
            ]
          },
          "execution_count": 59,
          "metadata": {},
          "output_type": "execute_result"
        }
      ],
      "source": [
        "month.value_counts().sort_index()"
      ]
    },
    {
      "cell_type": "code",
      "execution_count": null,
      "id": "1d808580",
      "metadata": {
        "id": "1d808580",
        "outputId": "215c9593-2b20-4df3-e22a-44ef8fd716ab"
      },
      "outputs": [
        {
          "data": {
            "text/html": [
              "<div>\n",
              "<style scoped>\n",
              "    .dataframe tbody tr th:only-of-type {\n",
              "        vertical-align: middle;\n",
              "    }\n",
              "\n",
              "    .dataframe tbody tr th {\n",
              "        vertical-align: top;\n",
              "    }\n",
              "\n",
              "    .dataframe thead th {\n",
              "        text-align: right;\n",
              "    }\n",
              "</style>\n",
              "<table border=\"1\" class=\"dataframe\">\n",
              "  <thead>\n",
              "    <tr style=\"text-align: right;\">\n",
              "      <th></th>\n",
              "      <th>unique_id</th>\n",
              "      <th>amount</th>\n",
              "      <th>date_time_of_pickup</th>\n",
              "      <th>longitude_of_pickup</th>\n",
              "      <th>latitude_of_pickup</th>\n",
              "      <th>longitude_of_dropoff</th>\n",
              "      <th>latitude_of_dropoff</th>\n",
              "      <th>no_of_passenger</th>\n",
              "      <th>month</th>\n",
              "    </tr>\n",
              "  </thead>\n",
              "  <tbody>\n",
              "    <tr>\n",
              "      <th>0</th>\n",
              "      <td>26:21.0</td>\n",
              "      <td>4.5</td>\n",
              "      <td>2009-06-15 17:26:21+00:00</td>\n",
              "      <td>-73.844311</td>\n",
              "      <td>40.721319</td>\n",
              "      <td>-73.841610</td>\n",
              "      <td>40.712278</td>\n",
              "      <td>1</td>\n",
              "      <td>6</td>\n",
              "    </tr>\n",
              "    <tr>\n",
              "      <th>1</th>\n",
              "      <td>52:16.0</td>\n",
              "      <td>16.9</td>\n",
              "      <td>2010-01-05 16:52:16+00:00</td>\n",
              "      <td>-74.016048</td>\n",
              "      <td>40.711303</td>\n",
              "      <td>-73.979268</td>\n",
              "      <td>40.782004</td>\n",
              "      <td>1</td>\n",
              "      <td>1</td>\n",
              "    </tr>\n",
              "    <tr>\n",
              "      <th>2</th>\n",
              "      <td>35:00.0</td>\n",
              "      <td>5.7</td>\n",
              "      <td>2011-08-18 00:35:00+00:00</td>\n",
              "      <td>-73.982738</td>\n",
              "      <td>40.761270</td>\n",
              "      <td>-73.991242</td>\n",
              "      <td>40.750562</td>\n",
              "      <td>2</td>\n",
              "      <td>8</td>\n",
              "    </tr>\n",
              "    <tr>\n",
              "      <th>3</th>\n",
              "      <td>30:42.0</td>\n",
              "      <td>7.7</td>\n",
              "      <td>2012-04-21 04:30:42+00:00</td>\n",
              "      <td>-73.987130</td>\n",
              "      <td>40.733143</td>\n",
              "      <td>-73.991242</td>\n",
              "      <td>40.758092</td>\n",
              "      <td>1</td>\n",
              "      <td>4</td>\n",
              "    </tr>\n",
              "    <tr>\n",
              "      <th>4</th>\n",
              "      <td>51:00.0</td>\n",
              "      <td>5.3</td>\n",
              "      <td>2010-03-09 07:51:00+00:00</td>\n",
              "      <td>-73.968095</td>\n",
              "      <td>40.768008</td>\n",
              "      <td>-73.956655</td>\n",
              "      <td>40.783762</td>\n",
              "      <td>1</td>\n",
              "      <td>3</td>\n",
              "    </tr>\n",
              "  </tbody>\n",
              "</table>\n",
              "</div>"
            ],
            "text/plain": [
              "  unique_id  amount       date_time_of_pickup  longitude_of_pickup  \\\n",
              "0   26:21.0     4.5 2009-06-15 17:26:21+00:00           -73.844311   \n",
              "1   52:16.0    16.9 2010-01-05 16:52:16+00:00           -74.016048   \n",
              "2   35:00.0     5.7 2011-08-18 00:35:00+00:00           -73.982738   \n",
              "3   30:42.0     7.7 2012-04-21 04:30:42+00:00           -73.987130   \n",
              "4   51:00.0     5.3 2010-03-09 07:51:00+00:00           -73.968095   \n",
              "\n",
              "   latitude_of_pickup  longitude_of_dropoff  latitude_of_dropoff  \\\n",
              "0           40.721319            -73.841610            40.712278   \n",
              "1           40.711303            -73.979268            40.782004   \n",
              "2           40.761270            -73.991242            40.750562   \n",
              "3           40.733143            -73.991242            40.758092   \n",
              "4           40.768008            -73.956655            40.783762   \n",
              "\n",
              "   no_of_passenger  month  \n",
              "0                1      6  \n",
              "1                1      1  \n",
              "2                2      8  \n",
              "3                1      4  \n",
              "4                1      3  "
            ]
          },
          "execution_count": 60,
          "metadata": {},
          "output_type": "execute_result"
        }
      ],
      "source": [
        "df['month'] = month\n",
        "df.head()"
      ]
    },
    {
      "cell_type": "code",
      "execution_count": null,
      "id": "ee9d6ab5",
      "metadata": {
        "id": "ee9d6ab5"
      },
      "outputs": [],
      "source": [
        "day = df['date_time_of_pickup'].dt.day"
      ]
    },
    {
      "cell_type": "code",
      "execution_count": null,
      "id": "e6216fff",
      "metadata": {
        "id": "e6216fff",
        "outputId": "99127539-5c04-480e-812c-2afc8539d2e2"
      },
      "outputs": [
        {
          "data": {
            "text/plain": [
              "1     1426\n",
              "2     1525\n",
              "3     1484\n",
              "4     1407\n",
              "5     1486\n",
              "6     1585\n",
              "7     1615\n",
              "8     1631\n",
              "9     1572\n",
              "10    1608\n",
              "11    1519\n",
              "12    1640\n",
              "13    1640\n",
              "14    1593\n",
              "15    1616\n",
              "16    1686\n",
              "17    1557\n",
              "18    1579\n",
              "19    1623\n",
              "20    1524\n",
              "21    1620\n",
              "22    1573\n",
              "23    1577\n",
              "24    1500\n",
              "25    1507\n",
              "26    1450\n",
              "27    1439\n",
              "28    1545\n",
              "29    1306\n",
              "30    1358\n",
              "31     831\n",
              "Name: date_time_of_pickup, dtype: int64"
            ]
          },
          "execution_count": 62,
          "metadata": {},
          "output_type": "execute_result"
        }
      ],
      "source": [
        "day.value_counts().sort_index()"
      ]
    },
    {
      "cell_type": "code",
      "execution_count": null,
      "id": "8743b33a",
      "metadata": {
        "id": "8743b33a",
        "outputId": "3abd1f02-b4a8-4d8e-aac3-fc4973176a94"
      },
      "outputs": [
        {
          "data": {
            "text/html": [
              "<div>\n",
              "<style scoped>\n",
              "    .dataframe tbody tr th:only-of-type {\n",
              "        vertical-align: middle;\n",
              "    }\n",
              "\n",
              "    .dataframe tbody tr th {\n",
              "        vertical-align: top;\n",
              "    }\n",
              "\n",
              "    .dataframe thead th {\n",
              "        text-align: right;\n",
              "    }\n",
              "</style>\n",
              "<table border=\"1\" class=\"dataframe\">\n",
              "  <thead>\n",
              "    <tr style=\"text-align: right;\">\n",
              "      <th></th>\n",
              "      <th>unique_id</th>\n",
              "      <th>amount</th>\n",
              "      <th>date_time_of_pickup</th>\n",
              "      <th>longitude_of_pickup</th>\n",
              "      <th>latitude_of_pickup</th>\n",
              "      <th>longitude_of_dropoff</th>\n",
              "      <th>latitude_of_dropoff</th>\n",
              "      <th>no_of_passenger</th>\n",
              "      <th>month</th>\n",
              "      <th>day</th>\n",
              "    </tr>\n",
              "  </thead>\n",
              "  <tbody>\n",
              "    <tr>\n",
              "      <th>0</th>\n",
              "      <td>26:21.0</td>\n",
              "      <td>4.5</td>\n",
              "      <td>2009-06-15 17:26:21+00:00</td>\n",
              "      <td>-73.844311</td>\n",
              "      <td>40.721319</td>\n",
              "      <td>-73.841610</td>\n",
              "      <td>40.712278</td>\n",
              "      <td>1</td>\n",
              "      <td>6</td>\n",
              "      <td>15</td>\n",
              "    </tr>\n",
              "    <tr>\n",
              "      <th>1</th>\n",
              "      <td>52:16.0</td>\n",
              "      <td>16.9</td>\n",
              "      <td>2010-01-05 16:52:16+00:00</td>\n",
              "      <td>-74.016048</td>\n",
              "      <td>40.711303</td>\n",
              "      <td>-73.979268</td>\n",
              "      <td>40.782004</td>\n",
              "      <td>1</td>\n",
              "      <td>1</td>\n",
              "      <td>5</td>\n",
              "    </tr>\n",
              "    <tr>\n",
              "      <th>2</th>\n",
              "      <td>35:00.0</td>\n",
              "      <td>5.7</td>\n",
              "      <td>2011-08-18 00:35:00+00:00</td>\n",
              "      <td>-73.982738</td>\n",
              "      <td>40.761270</td>\n",
              "      <td>-73.991242</td>\n",
              "      <td>40.750562</td>\n",
              "      <td>2</td>\n",
              "      <td>8</td>\n",
              "      <td>18</td>\n",
              "    </tr>\n",
              "    <tr>\n",
              "      <th>3</th>\n",
              "      <td>30:42.0</td>\n",
              "      <td>7.7</td>\n",
              "      <td>2012-04-21 04:30:42+00:00</td>\n",
              "      <td>-73.987130</td>\n",
              "      <td>40.733143</td>\n",
              "      <td>-73.991242</td>\n",
              "      <td>40.758092</td>\n",
              "      <td>1</td>\n",
              "      <td>4</td>\n",
              "      <td>21</td>\n",
              "    </tr>\n",
              "    <tr>\n",
              "      <th>4</th>\n",
              "      <td>51:00.0</td>\n",
              "      <td>5.3</td>\n",
              "      <td>2010-03-09 07:51:00+00:00</td>\n",
              "      <td>-73.968095</td>\n",
              "      <td>40.768008</td>\n",
              "      <td>-73.956655</td>\n",
              "      <td>40.783762</td>\n",
              "      <td>1</td>\n",
              "      <td>3</td>\n",
              "      <td>9</td>\n",
              "    </tr>\n",
              "  </tbody>\n",
              "</table>\n",
              "</div>"
            ],
            "text/plain": [
              "  unique_id  amount       date_time_of_pickup  longitude_of_pickup  \\\n",
              "0   26:21.0     4.5 2009-06-15 17:26:21+00:00           -73.844311   \n",
              "1   52:16.0    16.9 2010-01-05 16:52:16+00:00           -74.016048   \n",
              "2   35:00.0     5.7 2011-08-18 00:35:00+00:00           -73.982738   \n",
              "3   30:42.0     7.7 2012-04-21 04:30:42+00:00           -73.987130   \n",
              "4   51:00.0     5.3 2010-03-09 07:51:00+00:00           -73.968095   \n",
              "\n",
              "   latitude_of_pickup  longitude_of_dropoff  latitude_of_dropoff  \\\n",
              "0           40.721319            -73.841610            40.712278   \n",
              "1           40.711303            -73.979268            40.782004   \n",
              "2           40.761270            -73.991242            40.750562   \n",
              "3           40.733143            -73.991242            40.758092   \n",
              "4           40.768008            -73.956655            40.783762   \n",
              "\n",
              "   no_of_passenger  month  day  \n",
              "0                1      6   15  \n",
              "1                1      1    5  \n",
              "2                2      8   18  \n",
              "3                1      4   21  \n",
              "4                1      3    9  "
            ]
          },
          "execution_count": 63,
          "metadata": {},
          "output_type": "execute_result"
        }
      ],
      "source": [
        "df['day'] = day\n",
        "df.head()"
      ]
    },
    {
      "cell_type": "code",
      "execution_count": null,
      "id": "358e08eb",
      "metadata": {
        "id": "358e08eb"
      },
      "outputs": [],
      "source": [
        "dayofweek = df['date_time_of_pickup'].dt.dayofweek"
      ]
    },
    {
      "cell_type": "code",
      "execution_count": null,
      "id": "d40a8988",
      "metadata": {
        "id": "d40a8988",
        "outputId": "b9ba03ea-1962-42a6-9b6e-7e5e62ce205a"
      },
      "outputs": [
        {
          "data": {
            "text/plain": [
              "0    6261\n",
              "1    6524\n",
              "2    6798\n",
              "3    7034\n",
              "4    7206\n",
              "5    7129\n",
              "6    6070\n",
              "Name: date_time_of_pickup, dtype: int64"
            ]
          },
          "execution_count": 65,
          "metadata": {},
          "output_type": "execute_result"
        }
      ],
      "source": [
        "dayofweek.value_counts().sort_index()"
      ]
    },
    {
      "cell_type": "code",
      "execution_count": null,
      "id": "ec327bfe",
      "metadata": {
        "id": "ec327bfe",
        "outputId": "a4390ac0-1046-4358-bd56-fa6b2f02bd90"
      },
      "outputs": [
        {
          "data": {
            "text/html": [
              "<div>\n",
              "<style scoped>\n",
              "    .dataframe tbody tr th:only-of-type {\n",
              "        vertical-align: middle;\n",
              "    }\n",
              "\n",
              "    .dataframe tbody tr th {\n",
              "        vertical-align: top;\n",
              "    }\n",
              "\n",
              "    .dataframe thead th {\n",
              "        text-align: right;\n",
              "    }\n",
              "</style>\n",
              "<table border=\"1\" class=\"dataframe\">\n",
              "  <thead>\n",
              "    <tr style=\"text-align: right;\">\n",
              "      <th></th>\n",
              "      <th>unique_id</th>\n",
              "      <th>amount</th>\n",
              "      <th>date_time_of_pickup</th>\n",
              "      <th>longitude_of_pickup</th>\n",
              "      <th>latitude_of_pickup</th>\n",
              "      <th>longitude_of_dropoff</th>\n",
              "      <th>latitude_of_dropoff</th>\n",
              "      <th>no_of_passenger</th>\n",
              "      <th>month</th>\n",
              "      <th>day</th>\n",
              "      <th>dayofweek</th>\n",
              "    </tr>\n",
              "  </thead>\n",
              "  <tbody>\n",
              "    <tr>\n",
              "      <th>0</th>\n",
              "      <td>26:21.0</td>\n",
              "      <td>4.5</td>\n",
              "      <td>2009-06-15 17:26:21+00:00</td>\n",
              "      <td>-73.844311</td>\n",
              "      <td>40.721319</td>\n",
              "      <td>-73.841610</td>\n",
              "      <td>40.712278</td>\n",
              "      <td>1</td>\n",
              "      <td>6</td>\n",
              "      <td>15</td>\n",
              "      <td>0</td>\n",
              "    </tr>\n",
              "    <tr>\n",
              "      <th>1</th>\n",
              "      <td>52:16.0</td>\n",
              "      <td>16.9</td>\n",
              "      <td>2010-01-05 16:52:16+00:00</td>\n",
              "      <td>-74.016048</td>\n",
              "      <td>40.711303</td>\n",
              "      <td>-73.979268</td>\n",
              "      <td>40.782004</td>\n",
              "      <td>1</td>\n",
              "      <td>1</td>\n",
              "      <td>5</td>\n",
              "      <td>1</td>\n",
              "    </tr>\n",
              "    <tr>\n",
              "      <th>2</th>\n",
              "      <td>35:00.0</td>\n",
              "      <td>5.7</td>\n",
              "      <td>2011-08-18 00:35:00+00:00</td>\n",
              "      <td>-73.982738</td>\n",
              "      <td>40.761270</td>\n",
              "      <td>-73.991242</td>\n",
              "      <td>40.750562</td>\n",
              "      <td>2</td>\n",
              "      <td>8</td>\n",
              "      <td>18</td>\n",
              "      <td>3</td>\n",
              "    </tr>\n",
              "    <tr>\n",
              "      <th>3</th>\n",
              "      <td>30:42.0</td>\n",
              "      <td>7.7</td>\n",
              "      <td>2012-04-21 04:30:42+00:00</td>\n",
              "      <td>-73.987130</td>\n",
              "      <td>40.733143</td>\n",
              "      <td>-73.991242</td>\n",
              "      <td>40.758092</td>\n",
              "      <td>1</td>\n",
              "      <td>4</td>\n",
              "      <td>21</td>\n",
              "      <td>5</td>\n",
              "    </tr>\n",
              "    <tr>\n",
              "      <th>4</th>\n",
              "      <td>51:00.0</td>\n",
              "      <td>5.3</td>\n",
              "      <td>2010-03-09 07:51:00+00:00</td>\n",
              "      <td>-73.968095</td>\n",
              "      <td>40.768008</td>\n",
              "      <td>-73.956655</td>\n",
              "      <td>40.783762</td>\n",
              "      <td>1</td>\n",
              "      <td>3</td>\n",
              "      <td>9</td>\n",
              "      <td>1</td>\n",
              "    </tr>\n",
              "  </tbody>\n",
              "</table>\n",
              "</div>"
            ],
            "text/plain": [
              "  unique_id  amount       date_time_of_pickup  longitude_of_pickup  \\\n",
              "0   26:21.0     4.5 2009-06-15 17:26:21+00:00           -73.844311   \n",
              "1   52:16.0    16.9 2010-01-05 16:52:16+00:00           -74.016048   \n",
              "2   35:00.0     5.7 2011-08-18 00:35:00+00:00           -73.982738   \n",
              "3   30:42.0     7.7 2012-04-21 04:30:42+00:00           -73.987130   \n",
              "4   51:00.0     5.3 2010-03-09 07:51:00+00:00           -73.968095   \n",
              "\n",
              "   latitude_of_pickup  longitude_of_dropoff  latitude_of_dropoff  \\\n",
              "0           40.721319            -73.841610            40.712278   \n",
              "1           40.711303            -73.979268            40.782004   \n",
              "2           40.761270            -73.991242            40.750562   \n",
              "3           40.733143            -73.991242            40.758092   \n",
              "4           40.768008            -73.956655            40.783762   \n",
              "\n",
              "   no_of_passenger  month  day  dayofweek  \n",
              "0                1      6   15          0  \n",
              "1                1      1    5          1  \n",
              "2                2      8   18          3  \n",
              "3                1      4   21          5  \n",
              "4                1      3    9          1  "
            ]
          },
          "execution_count": 66,
          "metadata": {},
          "output_type": "execute_result"
        }
      ],
      "source": [
        "df['dayofweek'] = dayofweek\n",
        "df.head()"
      ]
    },
    {
      "cell_type": "code",
      "execution_count": null,
      "id": "b176a758",
      "metadata": {
        "id": "b176a758"
      },
      "outputs": [],
      "source": [
        "hour = df['date_time_of_pickup'].dt.hour"
      ]
    },
    {
      "cell_type": "code",
      "execution_count": null,
      "id": "c9b24005",
      "metadata": {
        "id": "c9b24005",
        "outputId": "76245df4-9f3f-4c34-ea51-bed085263c19"
      },
      "outputs": [
        {
          "data": {
            "text/plain": [
              "0     1763\n",
              "1     1391\n",
              "2     1027\n",
              "3      783\n",
              "4      571\n",
              "5      476\n",
              "6      968\n",
              "7     1789\n",
              "8     2098\n",
              "9     2265\n",
              "10    2146\n",
              "11    2243\n",
              "12    2326\n",
              "13    2342\n",
              "14    2309\n",
              "15    2217\n",
              "16    1923\n",
              "17    2317\n",
              "18    2909\n",
              "19    2927\n",
              "20    2664\n",
              "21    2639\n",
              "22    2615\n",
              "23    2314\n",
              "Name: date_time_of_pickup, dtype: int64"
            ]
          },
          "execution_count": 68,
          "metadata": {},
          "output_type": "execute_result"
        }
      ],
      "source": [
        "hour.value_counts().sort_index()"
      ]
    },
    {
      "cell_type": "code",
      "execution_count": null,
      "id": "53e04fbe",
      "metadata": {
        "id": "53e04fbe",
        "outputId": "05cd01a0-3679-4341-8aa2-48febf46c8be"
      },
      "outputs": [
        {
          "data": {
            "text/html": [
              "<div>\n",
              "<style scoped>\n",
              "    .dataframe tbody tr th:only-of-type {\n",
              "        vertical-align: middle;\n",
              "    }\n",
              "\n",
              "    .dataframe tbody tr th {\n",
              "        vertical-align: top;\n",
              "    }\n",
              "\n",
              "    .dataframe thead th {\n",
              "        text-align: right;\n",
              "    }\n",
              "</style>\n",
              "<table border=\"1\" class=\"dataframe\">\n",
              "  <thead>\n",
              "    <tr style=\"text-align: right;\">\n",
              "      <th></th>\n",
              "      <th>unique_id</th>\n",
              "      <th>amount</th>\n",
              "      <th>date_time_of_pickup</th>\n",
              "      <th>longitude_of_pickup</th>\n",
              "      <th>latitude_of_pickup</th>\n",
              "      <th>longitude_of_dropoff</th>\n",
              "      <th>latitude_of_dropoff</th>\n",
              "      <th>no_of_passenger</th>\n",
              "      <th>month</th>\n",
              "      <th>day</th>\n",
              "      <th>dayofweek</th>\n",
              "      <th>hour</th>\n",
              "    </tr>\n",
              "  </thead>\n",
              "  <tbody>\n",
              "    <tr>\n",
              "      <th>0</th>\n",
              "      <td>26:21.0</td>\n",
              "      <td>4.5</td>\n",
              "      <td>2009-06-15 17:26:21+00:00</td>\n",
              "      <td>-73.844311</td>\n",
              "      <td>40.721319</td>\n",
              "      <td>-73.841610</td>\n",
              "      <td>40.712278</td>\n",
              "      <td>1</td>\n",
              "      <td>6</td>\n",
              "      <td>15</td>\n",
              "      <td>0</td>\n",
              "      <td>17</td>\n",
              "    </tr>\n",
              "    <tr>\n",
              "      <th>1</th>\n",
              "      <td>52:16.0</td>\n",
              "      <td>16.9</td>\n",
              "      <td>2010-01-05 16:52:16+00:00</td>\n",
              "      <td>-74.016048</td>\n",
              "      <td>40.711303</td>\n",
              "      <td>-73.979268</td>\n",
              "      <td>40.782004</td>\n",
              "      <td>1</td>\n",
              "      <td>1</td>\n",
              "      <td>5</td>\n",
              "      <td>1</td>\n",
              "      <td>16</td>\n",
              "    </tr>\n",
              "    <tr>\n",
              "      <th>2</th>\n",
              "      <td>35:00.0</td>\n",
              "      <td>5.7</td>\n",
              "      <td>2011-08-18 00:35:00+00:00</td>\n",
              "      <td>-73.982738</td>\n",
              "      <td>40.761270</td>\n",
              "      <td>-73.991242</td>\n",
              "      <td>40.750562</td>\n",
              "      <td>2</td>\n",
              "      <td>8</td>\n",
              "      <td>18</td>\n",
              "      <td>3</td>\n",
              "      <td>0</td>\n",
              "    </tr>\n",
              "    <tr>\n",
              "      <th>3</th>\n",
              "      <td>30:42.0</td>\n",
              "      <td>7.7</td>\n",
              "      <td>2012-04-21 04:30:42+00:00</td>\n",
              "      <td>-73.987130</td>\n",
              "      <td>40.733143</td>\n",
              "      <td>-73.991242</td>\n",
              "      <td>40.758092</td>\n",
              "      <td>1</td>\n",
              "      <td>4</td>\n",
              "      <td>21</td>\n",
              "      <td>5</td>\n",
              "      <td>4</td>\n",
              "    </tr>\n",
              "    <tr>\n",
              "      <th>4</th>\n",
              "      <td>51:00.0</td>\n",
              "      <td>5.3</td>\n",
              "      <td>2010-03-09 07:51:00+00:00</td>\n",
              "      <td>-73.968095</td>\n",
              "      <td>40.768008</td>\n",
              "      <td>-73.956655</td>\n",
              "      <td>40.783762</td>\n",
              "      <td>1</td>\n",
              "      <td>3</td>\n",
              "      <td>9</td>\n",
              "      <td>1</td>\n",
              "      <td>7</td>\n",
              "    </tr>\n",
              "  </tbody>\n",
              "</table>\n",
              "</div>"
            ],
            "text/plain": [
              "  unique_id  amount       date_time_of_pickup  longitude_of_pickup  \\\n",
              "0   26:21.0     4.5 2009-06-15 17:26:21+00:00           -73.844311   \n",
              "1   52:16.0    16.9 2010-01-05 16:52:16+00:00           -74.016048   \n",
              "2   35:00.0     5.7 2011-08-18 00:35:00+00:00           -73.982738   \n",
              "3   30:42.0     7.7 2012-04-21 04:30:42+00:00           -73.987130   \n",
              "4   51:00.0     5.3 2010-03-09 07:51:00+00:00           -73.968095   \n",
              "\n",
              "   latitude_of_pickup  longitude_of_dropoff  latitude_of_dropoff  \\\n",
              "0           40.721319            -73.841610            40.712278   \n",
              "1           40.711303            -73.979268            40.782004   \n",
              "2           40.761270            -73.991242            40.750562   \n",
              "3           40.733143            -73.991242            40.758092   \n",
              "4           40.768008            -73.956655            40.783762   \n",
              "\n",
              "   no_of_passenger  month  day  dayofweek  hour  \n",
              "0                1      6   15          0    17  \n",
              "1                1      1    5          1    16  \n",
              "2                2      8   18          3     0  \n",
              "3                1      4   21          5     4  \n",
              "4                1      3    9          1     7  "
            ]
          },
          "execution_count": 69,
          "metadata": {},
          "output_type": "execute_result"
        }
      ],
      "source": [
        "df['hour'] = hour\n",
        "df.head()"
      ]
    },
    {
      "cell_type": "code",
      "execution_count": null,
      "id": "b797f0fa",
      "metadata": {
        "id": "b797f0fa"
      },
      "outputs": [],
      "source": [
        "df.drop(['unique_id', 'date_time_of_pickup'], inplace= True, axis= 1)\n",
        "df.reset_index(inplace = True, drop = True)\n"
      ]
    },
    {
      "cell_type": "code",
      "execution_count": null,
      "id": "2f327326",
      "metadata": {
        "id": "2f327326",
        "outputId": "5f5e6c91-4dc7-4b3f-d18a-95f89f58600b"
      },
      "outputs": [
        {
          "data": {
            "text/html": [
              "<div>\n",
              "<style scoped>\n",
              "    .dataframe tbody tr th:only-of-type {\n",
              "        vertical-align: middle;\n",
              "    }\n",
              "\n",
              "    .dataframe tbody tr th {\n",
              "        vertical-align: top;\n",
              "    }\n",
              "\n",
              "    .dataframe thead th {\n",
              "        text-align: right;\n",
              "    }\n",
              "</style>\n",
              "<table border=\"1\" class=\"dataframe\">\n",
              "  <thead>\n",
              "    <tr style=\"text-align: right;\">\n",
              "      <th></th>\n",
              "      <th>amount</th>\n",
              "      <th>longitude_of_pickup</th>\n",
              "      <th>latitude_of_pickup</th>\n",
              "      <th>longitude_of_dropoff</th>\n",
              "      <th>latitude_of_dropoff</th>\n",
              "      <th>no_of_passenger</th>\n",
              "      <th>month</th>\n",
              "      <th>day</th>\n",
              "      <th>dayofweek</th>\n",
              "      <th>hour</th>\n",
              "    </tr>\n",
              "  </thead>\n",
              "  <tbody>\n",
              "    <tr>\n",
              "      <th>0</th>\n",
              "      <td>4.5</td>\n",
              "      <td>-73.844311</td>\n",
              "      <td>40.721319</td>\n",
              "      <td>-73.841610</td>\n",
              "      <td>40.712278</td>\n",
              "      <td>1</td>\n",
              "      <td>6</td>\n",
              "      <td>15</td>\n",
              "      <td>0</td>\n",
              "      <td>17</td>\n",
              "    </tr>\n",
              "    <tr>\n",
              "      <th>1</th>\n",
              "      <td>16.9</td>\n",
              "      <td>-74.016048</td>\n",
              "      <td>40.711303</td>\n",
              "      <td>-73.979268</td>\n",
              "      <td>40.782004</td>\n",
              "      <td>1</td>\n",
              "      <td>1</td>\n",
              "      <td>5</td>\n",
              "      <td>1</td>\n",
              "      <td>16</td>\n",
              "    </tr>\n",
              "    <tr>\n",
              "      <th>2</th>\n",
              "      <td>5.7</td>\n",
              "      <td>-73.982738</td>\n",
              "      <td>40.761270</td>\n",
              "      <td>-73.991242</td>\n",
              "      <td>40.750562</td>\n",
              "      <td>2</td>\n",
              "      <td>8</td>\n",
              "      <td>18</td>\n",
              "      <td>3</td>\n",
              "      <td>0</td>\n",
              "    </tr>\n",
              "    <tr>\n",
              "      <th>3</th>\n",
              "      <td>7.7</td>\n",
              "      <td>-73.987130</td>\n",
              "      <td>40.733143</td>\n",
              "      <td>-73.991242</td>\n",
              "      <td>40.758092</td>\n",
              "      <td>1</td>\n",
              "      <td>4</td>\n",
              "      <td>21</td>\n",
              "      <td>5</td>\n",
              "      <td>4</td>\n",
              "    </tr>\n",
              "    <tr>\n",
              "      <th>4</th>\n",
              "      <td>5.3</td>\n",
              "      <td>-73.968095</td>\n",
              "      <td>40.768008</td>\n",
              "      <td>-73.956655</td>\n",
              "      <td>40.783762</td>\n",
              "      <td>1</td>\n",
              "      <td>3</td>\n",
              "      <td>9</td>\n",
              "      <td>1</td>\n",
              "      <td>7</td>\n",
              "    </tr>\n",
              "  </tbody>\n",
              "</table>\n",
              "</div>"
            ],
            "text/plain": [
              "   amount  longitude_of_pickup  latitude_of_pickup  longitude_of_dropoff  \\\n",
              "0     4.5           -73.844311           40.721319            -73.841610   \n",
              "1    16.9           -74.016048           40.711303            -73.979268   \n",
              "2     5.7           -73.982738           40.761270            -73.991242   \n",
              "3     7.7           -73.987130           40.733143            -73.991242   \n",
              "4     5.3           -73.968095           40.768008            -73.956655   \n",
              "\n",
              "   latitude_of_dropoff  no_of_passenger  month  day  dayofweek  hour  \n",
              "0            40.712278                1      6   15          0    17  \n",
              "1            40.782004                1      1    5          1    16  \n",
              "2            40.750562                2      8   18          3     0  \n",
              "3            40.758092                1      4   21          5     4  \n",
              "4            40.783762                1      3    9          1     7  "
            ]
          },
          "execution_count": 71,
          "metadata": {},
          "output_type": "execute_result"
        }
      ],
      "source": [
        "df.head()"
      ]
    },
    {
      "cell_type": "markdown",
      "id": "350c1d8b",
      "metadata": {
        "id": "350c1d8b"
      },
      "source": [
        "**Extracting features and labels**"
      ]
    },
    {
      "cell_type": "code",
      "execution_count": null,
      "id": "7320b164",
      "metadata": {
        "id": "7320b164"
      },
      "outputs": [],
      "source": [
        "X = df.drop('amount', axis= 1)\n",
        "y = df['amount']"
      ]
    },
    {
      "cell_type": "code",
      "execution_count": null,
      "id": "a048c50c",
      "metadata": {
        "id": "a048c50c",
        "outputId": "803e73b1-a449-4fdf-9573-6d86ea046c54"
      },
      "outputs": [
        {
          "data": {
            "text/plain": [
              "longitude_of_pickup     float64\n",
              "latitude_of_pickup      float64\n",
              "longitude_of_dropoff    float64\n",
              "latitude_of_dropoff     float64\n",
              "no_of_passenger           int64\n",
              "month                     int64\n",
              "day                       int64\n",
              "dayofweek                 int64\n",
              "hour                      int64\n",
              "dtype: object"
            ]
          },
          "execution_count": 73,
          "metadata": {},
          "output_type": "execute_result"
        }
      ],
      "source": [
        "X.dtypes"
      ]
    },
    {
      "cell_type": "markdown",
      "id": "3414ec55",
      "metadata": {
        "id": "3414ec55"
      },
      "source": [
        "**Scaling**"
      ]
    },
    {
      "cell_type": "code",
      "execution_count": null,
      "id": "08cb13c3",
      "metadata": {
        "id": "08cb13c3"
      },
      "outputs": [],
      "source": [
        "from sklearn.preprocessing import StandardScaler \n",
        "\n",
        "st_x = StandardScaler()  \n",
        "X_transformed = st_x.fit_transform(X) "
      ]
    },
    {
      "cell_type": "code",
      "execution_count": null,
      "id": "95774a85",
      "metadata": {
        "id": "95774a85"
      },
      "outputs": [],
      "source": [
        "X_transformed = pd.DataFrame(X_transformed, columns = ['longitude_of_pickup', 'latitude_of_pickup',\n",
        "       'longitude_of_dropoff', 'latitude_of_dropoff', 'no_of_passenger','month','day',\n",
        "        'dayofweek', 'hour'])"
      ]
    },
    {
      "cell_type": "code",
      "execution_count": null,
      "id": "d054fa55",
      "metadata": {
        "id": "d054fa55",
        "outputId": "950f6c5b-3292-4bc8-b433-91d2d5dfe799"
      },
      "outputs": [
        {
          "data": {
            "text/html": [
              "<div>\n",
              "<style scoped>\n",
              "    .dataframe tbody tr th:only-of-type {\n",
              "        vertical-align: middle;\n",
              "    }\n",
              "\n",
              "    .dataframe tbody tr th {\n",
              "        vertical-align: top;\n",
              "    }\n",
              "\n",
              "    .dataframe thead th {\n",
              "        text-align: right;\n",
              "    }\n",
              "</style>\n",
              "<table border=\"1\" class=\"dataframe\">\n",
              "  <thead>\n",
              "    <tr style=\"text-align: right;\">\n",
              "      <th></th>\n",
              "      <th>longitude_of_pickup</th>\n",
              "      <th>latitude_of_pickup</th>\n",
              "      <th>longitude_of_dropoff</th>\n",
              "      <th>latitude_of_dropoff</th>\n",
              "      <th>no_of_passenger</th>\n",
              "      <th>month</th>\n",
              "      <th>day</th>\n",
              "      <th>dayofweek</th>\n",
              "      <th>hour</th>\n",
              "    </tr>\n",
              "  </thead>\n",
              "  <tbody>\n",
              "    <tr>\n",
              "      <th>0</th>\n",
              "      <td>0.040850</td>\n",
              "      <td>0.001615</td>\n",
              "      <td>0.037195</td>\n",
              "      <td>0.001531</td>\n",
              "      <td>-0.481819</td>\n",
              "      <td>-0.078102</td>\n",
              "      <td>-0.076078</td>\n",
              "      <td>-1.546529</td>\n",
              "      <td>0.542651</td>\n",
              "    </tr>\n",
              "    <tr>\n",
              "      <th>1</th>\n",
              "      <td>-0.038272</td>\n",
              "      <td>-0.002081</td>\n",
              "      <td>-0.023512</td>\n",
              "      <td>0.033964</td>\n",
              "      <td>-0.481819</td>\n",
              "      <td>-1.522486</td>\n",
              "      <td>-1.232226</td>\n",
              "      <td>-1.034810</td>\n",
              "      <td>0.388715</td>\n",
              "    </tr>\n",
              "    <tr>\n",
              "      <th>2</th>\n",
              "      <td>-0.022925</td>\n",
              "      <td>0.016357</td>\n",
              "      <td>-0.028792</td>\n",
              "      <td>0.019339</td>\n",
              "      <td>0.427079</td>\n",
              "      <td>0.499652</td>\n",
              "      <td>0.270766</td>\n",
              "      <td>-0.011372</td>\n",
              "      <td>-2.074255</td>\n",
              "    </tr>\n",
              "    <tr>\n",
              "      <th>3</th>\n",
              "      <td>-0.024949</td>\n",
              "      <td>0.005978</td>\n",
              "      <td>-0.028792</td>\n",
              "      <td>0.022841</td>\n",
              "      <td>-0.481819</td>\n",
              "      <td>-0.655855</td>\n",
              "      <td>0.617610</td>\n",
              "      <td>1.012066</td>\n",
              "      <td>-1.458513</td>\n",
              "    </tr>\n",
              "    <tr>\n",
              "      <th>4</th>\n",
              "      <td>-0.016179</td>\n",
              "      <td>0.018843</td>\n",
              "      <td>-0.013539</td>\n",
              "      <td>0.034781</td>\n",
              "      <td>-0.481819</td>\n",
              "      <td>-0.944732</td>\n",
              "      <td>-0.769767</td>\n",
              "      <td>-1.034810</td>\n",
              "      <td>-0.996706</td>\n",
              "    </tr>\n",
              "  </tbody>\n",
              "</table>\n",
              "</div>"
            ],
            "text/plain": [
              "   longitude_of_pickup  latitude_of_pickup  longitude_of_dropoff  \\\n",
              "0             0.040850            0.001615              0.037195   \n",
              "1            -0.038272           -0.002081             -0.023512   \n",
              "2            -0.022925            0.016357             -0.028792   \n",
              "3            -0.024949            0.005978             -0.028792   \n",
              "4            -0.016179            0.018843             -0.013539   \n",
              "\n",
              "   latitude_of_dropoff  no_of_passenger     month       day  dayofweek  \\\n",
              "0             0.001531        -0.481819 -0.078102 -0.076078  -1.546529   \n",
              "1             0.033964        -0.481819 -1.522486 -1.232226  -1.034810   \n",
              "2             0.019339         0.427079  0.499652  0.270766  -0.011372   \n",
              "3             0.022841        -0.481819 -0.655855  0.617610   1.012066   \n",
              "4             0.034781        -0.481819 -0.944732 -0.769767  -1.034810   \n",
              "\n",
              "       hour  \n",
              "0  0.542651  \n",
              "1  0.388715  \n",
              "2 -2.074255  \n",
              "3 -1.458513  \n",
              "4 -0.996706  "
            ]
          },
          "execution_count": 76,
          "metadata": {},
          "output_type": "execute_result"
        }
      ],
      "source": [
        "X_transformed.head()"
      ]
    },
    {
      "cell_type": "code",
      "execution_count": null,
      "id": "4f8c4215",
      "metadata": {
        "id": "4f8c4215",
        "outputId": "fe3cb3b1-50e1-4c5e-bbd5-b4adcfcab99f"
      },
      "outputs": [
        {
          "data": {
            "text/plain": [
              "Index(['amount', 'longitude_of_pickup', 'latitude_of_pickup',\n",
              "       'longitude_of_dropoff', 'latitude_of_dropoff', 'no_of_passenger',\n",
              "       'month', 'day', 'dayofweek', 'hour'],\n",
              "      dtype='object')"
            ]
          },
          "execution_count": 77,
          "metadata": {},
          "output_type": "execute_result"
        }
      ],
      "source": [
        "df.columns"
      ]
    },
    {
      "cell_type": "code",
      "execution_count": null,
      "id": "31e1e02a",
      "metadata": {
        "id": "31e1e02a"
      },
      "outputs": [],
      "source": [
        "y_arr = np.array(y).reshape(-1,1)\n",
        "y_arr.shape\n",
        "y = st_x.fit_transform(y_arr) "
      ]
    },
    {
      "cell_type": "code",
      "execution_count": null,
      "id": "b81fd619",
      "metadata": {
        "id": "b81fd619",
        "outputId": "1284bc90-bb12-4411-ca7f-b18ff76e1212"
      },
      "outputs": [
        {
          "data": {
            "text/html": [
              "<div>\n",
              "<style scoped>\n",
              "    .dataframe tbody tr th:only-of-type {\n",
              "        vertical-align: middle;\n",
              "    }\n",
              "\n",
              "    .dataframe tbody tr th {\n",
              "        vertical-align: top;\n",
              "    }\n",
              "\n",
              "    .dataframe thead th {\n",
              "        text-align: right;\n",
              "    }\n",
              "</style>\n",
              "<table border=\"1\" class=\"dataframe\">\n",
              "  <thead>\n",
              "    <tr style=\"text-align: right;\">\n",
              "      <th></th>\n",
              "      <th>amount</th>\n",
              "    </tr>\n",
              "  </thead>\n",
              "  <tbody>\n",
              "    <tr>\n",
              "      <th>0</th>\n",
              "      <td>-0.709810</td>\n",
              "    </tr>\n",
              "    <tr>\n",
              "      <th>1</th>\n",
              "      <td>0.577544</td>\n",
              "    </tr>\n",
              "    <tr>\n",
              "      <th>2</th>\n",
              "      <td>-0.585227</td>\n",
              "    </tr>\n",
              "    <tr>\n",
              "      <th>3</th>\n",
              "      <td>-0.377590</td>\n",
              "    </tr>\n",
              "    <tr>\n",
              "      <th>4</th>\n",
              "      <td>-0.626755</td>\n",
              "    </tr>\n",
              "  </tbody>\n",
              "</table>\n",
              "</div>"
            ],
            "text/plain": [
              "     amount\n",
              "0 -0.709810\n",
              "1  0.577544\n",
              "2 -0.585227\n",
              "3 -0.377590\n",
              "4 -0.626755"
            ]
          },
          "execution_count": 79,
          "metadata": {},
          "output_type": "execute_result"
        }
      ],
      "source": [
        "y_transformed = pd.DataFrame(y, columns= ['amount'])\n",
        "y_transformed.head()"
      ]
    },
    {
      "cell_type": "markdown",
      "id": "368ed9db",
      "metadata": {
        "id": "368ed9db"
      },
      "source": [
        "**Training and testing data**"
      ]
    },
    {
      "cell_type": "code",
      "execution_count": null,
      "id": "4f8cce26",
      "metadata": {
        "id": "4f8cce26"
      },
      "outputs": [],
      "source": [
        "# Value of random state\n",
        "\n",
        "rdst = 42"
      ]
    },
    {
      "cell_type": "code",
      "execution_count": null,
      "id": "367c00fd",
      "metadata": {
        "id": "367c00fd"
      },
      "outputs": [],
      "source": [
        "# Normal Data\n",
        "\n",
        "#xtrain, xtest, ytrain, ytest = train_test_split(X, y, test_size= 0.3, random_state= rdst)"
      ]
    },
    {
      "cell_type": "code",
      "execution_count": null,
      "id": "1961ea18",
      "metadata": {
        "id": "1961ea18"
      },
      "outputs": [],
      "source": [
        "# Scaled Data\n",
        "\n",
        "xtrain, xtest, ytrain, ytest = train_test_split(X_transformed, y_transformed, test_size= 0.2, random_state= rdst)"
      ]
    },
    {
      "cell_type": "markdown",
      "id": "34c55e52",
      "metadata": {
        "id": "34c55e52"
      },
      "source": [
        "**Testing of model**"
      ]
    },
    {
      "cell_type": "markdown",
      "id": "e16aee2a",
      "metadata": {
        "id": "e16aee2a"
      },
      "source": [
        "#### 1) Decision Tree Regressor"
      ]
    },
    {
      "cell_type": "code",
      "execution_count": null,
      "id": "48820043",
      "metadata": {
        "id": "48820043",
        "outputId": "cd7a5505-aed6-441b-c985-0729b2f8ccf1"
      },
      "outputs": [
        {
          "data": {
            "text/html": [
              "<style>#sk-container-id-1 {color: black;background-color: white;}#sk-container-id-1 pre{padding: 0;}#sk-container-id-1 div.sk-toggleable {background-color: white;}#sk-container-id-1 label.sk-toggleable__label {cursor: pointer;display: block;width: 100%;margin-bottom: 0;padding: 0.3em;box-sizing: border-box;text-align: center;}#sk-container-id-1 label.sk-toggleable__label-arrow:before {content: \"▸\";float: left;margin-right: 0.25em;color: #696969;}#sk-container-id-1 label.sk-toggleable__label-arrow:hover:before {color: black;}#sk-container-id-1 div.sk-estimator:hover label.sk-toggleable__label-arrow:before {color: black;}#sk-container-id-1 div.sk-toggleable__content {max-height: 0;max-width: 0;overflow: hidden;text-align: left;background-color: #f0f8ff;}#sk-container-id-1 div.sk-toggleable__content pre {margin: 0.2em;color: black;border-radius: 0.25em;background-color: #f0f8ff;}#sk-container-id-1 input.sk-toggleable__control:checked~div.sk-toggleable__content {max-height: 200px;max-width: 100%;overflow: auto;}#sk-container-id-1 input.sk-toggleable__control:checked~label.sk-toggleable__label-arrow:before {content: \"▾\";}#sk-container-id-1 div.sk-estimator input.sk-toggleable__control:checked~label.sk-toggleable__label {background-color: #d4ebff;}#sk-container-id-1 div.sk-label input.sk-toggleable__control:checked~label.sk-toggleable__label {background-color: #d4ebff;}#sk-container-id-1 input.sk-hidden--visually {border: 0;clip: rect(1px 1px 1px 1px);clip: rect(1px, 1px, 1px, 1px);height: 1px;margin: -1px;overflow: hidden;padding: 0;position: absolute;width: 1px;}#sk-container-id-1 div.sk-estimator {font-family: monospace;background-color: #f0f8ff;border: 1px dotted black;border-radius: 0.25em;box-sizing: border-box;margin-bottom: 0.5em;}#sk-container-id-1 div.sk-estimator:hover {background-color: #d4ebff;}#sk-container-id-1 div.sk-parallel-item::after {content: \"\";width: 100%;border-bottom: 1px solid gray;flex-grow: 1;}#sk-container-id-1 div.sk-label:hover label.sk-toggleable__label {background-color: #d4ebff;}#sk-container-id-1 div.sk-serial::before {content: \"\";position: absolute;border-left: 1px solid gray;box-sizing: border-box;top: 0;bottom: 0;left: 50%;z-index: 0;}#sk-container-id-1 div.sk-serial {display: flex;flex-direction: column;align-items: center;background-color: white;padding-right: 0.2em;padding-left: 0.2em;position: relative;}#sk-container-id-1 div.sk-item {position: relative;z-index: 1;}#sk-container-id-1 div.sk-parallel {display: flex;align-items: stretch;justify-content: center;background-color: white;position: relative;}#sk-container-id-1 div.sk-item::before, #sk-container-id-1 div.sk-parallel-item::before {content: \"\";position: absolute;border-left: 1px solid gray;box-sizing: border-box;top: 0;bottom: 0;left: 50%;z-index: -1;}#sk-container-id-1 div.sk-parallel-item {display: flex;flex-direction: column;z-index: 1;position: relative;background-color: white;}#sk-container-id-1 div.sk-parallel-item:first-child::after {align-self: flex-end;width: 50%;}#sk-container-id-1 div.sk-parallel-item:last-child::after {align-self: flex-start;width: 50%;}#sk-container-id-1 div.sk-parallel-item:only-child::after {width: 0;}#sk-container-id-1 div.sk-dashed-wrapped {border: 1px dashed gray;margin: 0 0.4em 0.5em 0.4em;box-sizing: border-box;padding-bottom: 0.4em;background-color: white;}#sk-container-id-1 div.sk-label label {font-family: monospace;font-weight: bold;display: inline-block;line-height: 1.2em;}#sk-container-id-1 div.sk-label-container {text-align: center;}#sk-container-id-1 div.sk-container {/* jupyter's `normalize.less` sets `[hidden] { display: none; }` but bootstrap.min.css set `[hidden] { display: none !important; }` so we also need the `!important` here to be able to override the default hidden behavior on the sphinx rendered scikit-learn.org. See: https://github.com/scikit-learn/scikit-learn/issues/21755 */display: inline-block !important;position: relative;}#sk-container-id-1 div.sk-text-repr-fallback {display: none;}</style><div id=\"sk-container-id-1\" class=\"sk-top-container\"><div class=\"sk-text-repr-fallback\"><pre>DecisionTreeRegressor(max_depth=6, max_features=&#x27;sqrt&#x27;, random_state=42)</pre><b>In a Jupyter environment, please rerun this cell to show the HTML representation or trust the notebook. <br />On GitHub, the HTML representation is unable to render, please try loading this page with nbviewer.org.</b></div><div class=\"sk-container\" hidden><div class=\"sk-item\"><div class=\"sk-estimator sk-toggleable\"><input class=\"sk-toggleable__control sk-hidden--visually\" id=\"sk-estimator-id-1\" type=\"checkbox\" checked><label for=\"sk-estimator-id-1\" class=\"sk-toggleable__label sk-toggleable__label-arrow\">DecisionTreeRegressor</label><div class=\"sk-toggleable__content\"><pre>DecisionTreeRegressor(max_depth=6, max_features=&#x27;sqrt&#x27;, random_state=42)</pre></div></div></div></div></div>"
            ],
            "text/plain": [
              "DecisionTreeRegressor(max_depth=6, max_features='sqrt', random_state=42)"
            ]
          },
          "execution_count": 83,
          "metadata": {},
          "output_type": "execute_result"
        }
      ],
      "source": [
        "from sklearn.tree import DecisionTreeRegressor\n",
        "\n",
        "model1 = DecisionTreeRegressor(max_depth=6 , max_features='sqrt', random_state= rdst)\n",
        "model1.fit(xtrain, ytrain)"
      ]
    },
    {
      "cell_type": "code",
      "execution_count": null,
      "id": "c75b280c",
      "metadata": {
        "id": "c75b280c",
        "outputId": "36a238a0-1ca6-480f-a992-f3a65ae1ff1a"
      },
      "outputs": [
        {
          "data": {
            "text/plain": [
              "0.6027600079840413"
            ]
          },
          "execution_count": 84,
          "metadata": {},
          "output_type": "execute_result"
        }
      ],
      "source": [
        "sc1tr = model1.score(xtrain, ytrain)\n",
        "sc1tr "
      ]
    },
    {
      "cell_type": "code",
      "execution_count": null,
      "id": "14c4de55",
      "metadata": {
        "id": "14c4de55",
        "outputId": "d59b9bb9-96bd-4384-9349-9fa3f136ab9b"
      },
      "outputs": [
        {
          "data": {
            "text/plain": [
              "0.5785505872336492"
            ]
          },
          "execution_count": 85,
          "metadata": {},
          "output_type": "execute_result"
        }
      ],
      "source": [
        "sc1ts = model1.score(xtest, ytest)\n",
        "sc1ts"
      ]
    },
    {
      "cell_type": "code",
      "execution_count": null,
      "id": "adf7a6ea",
      "metadata": {
        "id": "adf7a6ea"
      },
      "outputs": [],
      "source": [
        "#adding values for performance report\n",
        "count = count + 1"
      ]
    },
    {
      "cell_type": "markdown",
      "id": "09d55fd7",
      "metadata": {
        "id": "09d55fd7"
      },
      "source": [
        "#### 2) SVM"
      ]
    },
    {
      "cell_type": "code",
      "execution_count": null,
      "id": "_zjT9m0S7NaI",
      "metadata": {
        "id": "_zjT9m0S7NaI"
      },
      "outputs": [],
      "source": [
        "from sklearn.svm import SVR\n",
        "\n",
        "model2 = SVR()\n",
        "model2.fit(xtrain, ytrain)"
      ]
    },
    {
      "cell_type": "code",
      "execution_count": null,
      "id": "YxX5zUCC7Qyi",
      "metadata": {
        "id": "YxX5zUCC7Qyi"
      },
      "outputs": [],
      "source": [
        "sc2tr = model2.score(xtrain, ytrain)\n",
        "sc2tr"
      ]
    },
    {
      "cell_type": "code",
      "execution_count": null,
      "id": "MgiFpk4F7Teb",
      "metadata": {
        "id": "MgiFpk4F7Teb"
      },
      "outputs": [],
      "source": [
        "sc2ts =model2.score(xtest, ytest)\n",
        "sc2ts"
      ]
    },
    {
      "cell_type": "code",
      "execution_count": null,
      "id": "45991e8b",
      "metadata": {
        "id": "45991e8b"
      },
      "outputs": [],
      "source": [
        "count = count + 1"
      ]
    },
    {
      "cell_type": "markdown",
      "id": "0075d913",
      "metadata": {
        "id": "0075d913"
      },
      "source": [
        "#### 3) SGD"
      ]
    },
    {
      "cell_type": "code",
      "execution_count": null,
      "id": "68bb6109",
      "metadata": {
        "id": "68bb6109",
        "outputId": "d461bf24-04a1-40a3-d009-d93a5f0ff36c"
      },
      "outputs": [
        {
          "name": "stderr",
          "output_type": "stream",
          "text": [
            "C:\\Users\\prana\\anaconda3\\lib\\site-packages\\sklearn\\utils\\validation.py:1141: DataConversionWarning: A column-vector y was passed when a 1d array was expected. Please change the shape of y to (n_samples, ), for example using ravel().\n",
            "  y = column_or_1d(y, warn=True)\n"
          ]
        },
        {
          "data": {
            "text/html": [
              "<style>#sk-container-id-2 {color: black;background-color: white;}#sk-container-id-2 pre{padding: 0;}#sk-container-id-2 div.sk-toggleable {background-color: white;}#sk-container-id-2 label.sk-toggleable__label {cursor: pointer;display: block;width: 100%;margin-bottom: 0;padding: 0.3em;box-sizing: border-box;text-align: center;}#sk-container-id-2 label.sk-toggleable__label-arrow:before {content: \"▸\";float: left;margin-right: 0.25em;color: #696969;}#sk-container-id-2 label.sk-toggleable__label-arrow:hover:before {color: black;}#sk-container-id-2 div.sk-estimator:hover label.sk-toggleable__label-arrow:before {color: black;}#sk-container-id-2 div.sk-toggleable__content {max-height: 0;max-width: 0;overflow: hidden;text-align: left;background-color: #f0f8ff;}#sk-container-id-2 div.sk-toggleable__content pre {margin: 0.2em;color: black;border-radius: 0.25em;background-color: #f0f8ff;}#sk-container-id-2 input.sk-toggleable__control:checked~div.sk-toggleable__content {max-height: 200px;max-width: 100%;overflow: auto;}#sk-container-id-2 input.sk-toggleable__control:checked~label.sk-toggleable__label-arrow:before {content: \"▾\";}#sk-container-id-2 div.sk-estimator input.sk-toggleable__control:checked~label.sk-toggleable__label {background-color: #d4ebff;}#sk-container-id-2 div.sk-label input.sk-toggleable__control:checked~label.sk-toggleable__label {background-color: #d4ebff;}#sk-container-id-2 input.sk-hidden--visually {border: 0;clip: rect(1px 1px 1px 1px);clip: rect(1px, 1px, 1px, 1px);height: 1px;margin: -1px;overflow: hidden;padding: 0;position: absolute;width: 1px;}#sk-container-id-2 div.sk-estimator {font-family: monospace;background-color: #f0f8ff;border: 1px dotted black;border-radius: 0.25em;box-sizing: border-box;margin-bottom: 0.5em;}#sk-container-id-2 div.sk-estimator:hover {background-color: #d4ebff;}#sk-container-id-2 div.sk-parallel-item::after {content: \"\";width: 100%;border-bottom: 1px solid gray;flex-grow: 1;}#sk-container-id-2 div.sk-label:hover label.sk-toggleable__label {background-color: #d4ebff;}#sk-container-id-2 div.sk-serial::before {content: \"\";position: absolute;border-left: 1px solid gray;box-sizing: border-box;top: 0;bottom: 0;left: 50%;z-index: 0;}#sk-container-id-2 div.sk-serial {display: flex;flex-direction: column;align-items: center;background-color: white;padding-right: 0.2em;padding-left: 0.2em;position: relative;}#sk-container-id-2 div.sk-item {position: relative;z-index: 1;}#sk-container-id-2 div.sk-parallel {display: flex;align-items: stretch;justify-content: center;background-color: white;position: relative;}#sk-container-id-2 div.sk-item::before, #sk-container-id-2 div.sk-parallel-item::before {content: \"\";position: absolute;border-left: 1px solid gray;box-sizing: border-box;top: 0;bottom: 0;left: 50%;z-index: -1;}#sk-container-id-2 div.sk-parallel-item {display: flex;flex-direction: column;z-index: 1;position: relative;background-color: white;}#sk-container-id-2 div.sk-parallel-item:first-child::after {align-self: flex-end;width: 50%;}#sk-container-id-2 div.sk-parallel-item:last-child::after {align-self: flex-start;width: 50%;}#sk-container-id-2 div.sk-parallel-item:only-child::after {width: 0;}#sk-container-id-2 div.sk-dashed-wrapped {border: 1px dashed gray;margin: 0 0.4em 0.5em 0.4em;box-sizing: border-box;padding-bottom: 0.4em;background-color: white;}#sk-container-id-2 div.sk-label label {font-family: monospace;font-weight: bold;display: inline-block;line-height: 1.2em;}#sk-container-id-2 div.sk-label-container {text-align: center;}#sk-container-id-2 div.sk-container {/* jupyter's `normalize.less` sets `[hidden] { display: none; }` but bootstrap.min.css set `[hidden] { display: none !important; }` so we also need the `!important` here to be able to override the default hidden behavior on the sphinx rendered scikit-learn.org. See: https://github.com/scikit-learn/scikit-learn/issues/21755 */display: inline-block !important;position: relative;}#sk-container-id-2 div.sk-text-repr-fallback {display: none;}</style><div id=\"sk-container-id-2\" class=\"sk-top-container\"><div class=\"sk-text-repr-fallback\"><pre>SGDRegressor(random_state=42)</pre><b>In a Jupyter environment, please rerun this cell to show the HTML representation or trust the notebook. <br />On GitHub, the HTML representation is unable to render, please try loading this page with nbviewer.org.</b></div><div class=\"sk-container\" hidden><div class=\"sk-item\"><div class=\"sk-estimator sk-toggleable\"><input class=\"sk-toggleable__control sk-hidden--visually\" id=\"sk-estimator-id-2\" type=\"checkbox\" checked><label for=\"sk-estimator-id-2\" class=\"sk-toggleable__label sk-toggleable__label-arrow\">SGDRegressor</label><div class=\"sk-toggleable__content\"><pre>SGDRegressor(random_state=42)</pre></div></div></div></div></div>"
            ],
            "text/plain": [
              "SGDRegressor(random_state=42)"
            ]
          },
          "execution_count": 88,
          "metadata": {},
          "output_type": "execute_result"
        }
      ],
      "source": [
        "from sklearn.linear_model import SGDRegressor\n",
        "\n",
        "model3 = SGDRegressor(random_state= rdst)\n",
        "model3.fit(xtrain, ytrain)"
      ]
    },
    {
      "cell_type": "code",
      "execution_count": null,
      "id": "a7f65d11",
      "metadata": {
        "id": "a7f65d11",
        "outputId": "510ca1a6-4c46-490e-c298-dffc54115292"
      },
      "outputs": [
        {
          "data": {
            "text/plain": [
              "-4.388767703702596e+21"
            ]
          },
          "execution_count": 89,
          "metadata": {},
          "output_type": "execute_result"
        }
      ],
      "source": [
        "sc3tr = model3.score(xtrain, ytrain)\n",
        "sc3tr"
      ]
    },
    {
      "cell_type": "code",
      "execution_count": null,
      "id": "52d1c4ff",
      "metadata": {
        "id": "52d1c4ff",
        "outputId": "6a148674-9787-4606-ce03-92ac78781a9d"
      },
      "outputs": [
        {
          "data": {
            "text/plain": [
              "-3.8864903064549715e+21"
            ]
          },
          "execution_count": 90,
          "metadata": {},
          "output_type": "execute_result"
        }
      ],
      "source": [
        "sc3ts = model3.score(xtest, ytest)\n",
        "sc3ts"
      ]
    },
    {
      "cell_type": "code",
      "execution_count": null,
      "id": "3db54906",
      "metadata": {
        "id": "3db54906"
      },
      "outputs": [],
      "source": [
        "#adding values for performance report\n",
        "count = count + 1"
      ]
    },
    {
      "cell_type": "markdown",
      "id": "a4d4d7ff",
      "metadata": {
        "id": "a4d4d7ff"
      },
      "source": [
        "#### 4) Bagging Regressor"
      ]
    },
    {
      "cell_type": "code",
      "execution_count": null,
      "id": "f9269f95",
      "metadata": {
        "id": "f9269f95",
        "outputId": "a6c682a9-6e3a-4603-edbd-e36b4137329f"
      },
      "outputs": [
        {
          "name": "stderr",
          "output_type": "stream",
          "text": [
            "C:\\Users\\prana\\anaconda3\\lib\\site-packages\\sklearn\\ensemble\\_bagging.py:510: DataConversionWarning: A column-vector y was passed when a 1d array was expected. Please change the shape of y to (n_samples, ), for example using ravel().\n",
            "  return column_or_1d(y, warn=True)\n",
            "C:\\Users\\prana\\anaconda3\\lib\\site-packages\\sklearn\\ensemble\\_base.py:166: FutureWarning: `base_estimator` was renamed to `estimator` in version 1.2 and will be removed in 1.4.\n",
            "  warnings.warn(\n"
          ]
        },
        {
          "data": {
            "text/html": [
              "<style>#sk-container-id-3 {color: black;background-color: white;}#sk-container-id-3 pre{padding: 0;}#sk-container-id-3 div.sk-toggleable {background-color: white;}#sk-container-id-3 label.sk-toggleable__label {cursor: pointer;display: block;width: 100%;margin-bottom: 0;padding: 0.3em;box-sizing: border-box;text-align: center;}#sk-container-id-3 label.sk-toggleable__label-arrow:before {content: \"▸\";float: left;margin-right: 0.25em;color: #696969;}#sk-container-id-3 label.sk-toggleable__label-arrow:hover:before {color: black;}#sk-container-id-3 div.sk-estimator:hover label.sk-toggleable__label-arrow:before {color: black;}#sk-container-id-3 div.sk-toggleable__content {max-height: 0;max-width: 0;overflow: hidden;text-align: left;background-color: #f0f8ff;}#sk-container-id-3 div.sk-toggleable__content pre {margin: 0.2em;color: black;border-radius: 0.25em;background-color: #f0f8ff;}#sk-container-id-3 input.sk-toggleable__control:checked~div.sk-toggleable__content {max-height: 200px;max-width: 100%;overflow: auto;}#sk-container-id-3 input.sk-toggleable__control:checked~label.sk-toggleable__label-arrow:before {content: \"▾\";}#sk-container-id-3 div.sk-estimator input.sk-toggleable__control:checked~label.sk-toggleable__label {background-color: #d4ebff;}#sk-container-id-3 div.sk-label input.sk-toggleable__control:checked~label.sk-toggleable__label {background-color: #d4ebff;}#sk-container-id-3 input.sk-hidden--visually {border: 0;clip: rect(1px 1px 1px 1px);clip: rect(1px, 1px, 1px, 1px);height: 1px;margin: -1px;overflow: hidden;padding: 0;position: absolute;width: 1px;}#sk-container-id-3 div.sk-estimator {font-family: monospace;background-color: #f0f8ff;border: 1px dotted black;border-radius: 0.25em;box-sizing: border-box;margin-bottom: 0.5em;}#sk-container-id-3 div.sk-estimator:hover {background-color: #d4ebff;}#sk-container-id-3 div.sk-parallel-item::after {content: \"\";width: 100%;border-bottom: 1px solid gray;flex-grow: 1;}#sk-container-id-3 div.sk-label:hover label.sk-toggleable__label {background-color: #d4ebff;}#sk-container-id-3 div.sk-serial::before {content: \"\";position: absolute;border-left: 1px solid gray;box-sizing: border-box;top: 0;bottom: 0;left: 50%;z-index: 0;}#sk-container-id-3 div.sk-serial {display: flex;flex-direction: column;align-items: center;background-color: white;padding-right: 0.2em;padding-left: 0.2em;position: relative;}#sk-container-id-3 div.sk-item {position: relative;z-index: 1;}#sk-container-id-3 div.sk-parallel {display: flex;align-items: stretch;justify-content: center;background-color: white;position: relative;}#sk-container-id-3 div.sk-item::before, #sk-container-id-3 div.sk-parallel-item::before {content: \"\";position: absolute;border-left: 1px solid gray;box-sizing: border-box;top: 0;bottom: 0;left: 50%;z-index: -1;}#sk-container-id-3 div.sk-parallel-item {display: flex;flex-direction: column;z-index: 1;position: relative;background-color: white;}#sk-container-id-3 div.sk-parallel-item:first-child::after {align-self: flex-end;width: 50%;}#sk-container-id-3 div.sk-parallel-item:last-child::after {align-self: flex-start;width: 50%;}#sk-container-id-3 div.sk-parallel-item:only-child::after {width: 0;}#sk-container-id-3 div.sk-dashed-wrapped {border: 1px dashed gray;margin: 0 0.4em 0.5em 0.4em;box-sizing: border-box;padding-bottom: 0.4em;background-color: white;}#sk-container-id-3 div.sk-label label {font-family: monospace;font-weight: bold;display: inline-block;line-height: 1.2em;}#sk-container-id-3 div.sk-label-container {text-align: center;}#sk-container-id-3 div.sk-container {/* jupyter's `normalize.less` sets `[hidden] { display: none; }` but bootstrap.min.css set `[hidden] { display: none !important; }` so we also need the `!important` here to be able to override the default hidden behavior on the sphinx rendered scikit-learn.org. See: https://github.com/scikit-learn/scikit-learn/issues/21755 */display: inline-block !important;position: relative;}#sk-container-id-3 div.sk-text-repr-fallback {display: none;}</style><div id=\"sk-container-id-3\" class=\"sk-top-container\"><div class=\"sk-text-repr-fallback\"><pre>BaggingRegressor(base_estimator=DecisionTreeRegressor(max_depth=6,\n",
              "                                                      max_features=&#x27;sqrt&#x27;,\n",
              "                                                      random_state=42),\n",
              "                 random_state=42)</pre><b>In a Jupyter environment, please rerun this cell to show the HTML representation or trust the notebook. <br />On GitHub, the HTML representation is unable to render, please try loading this page with nbviewer.org.</b></div><div class=\"sk-container\" hidden><div class=\"sk-item sk-dashed-wrapped\"><div class=\"sk-label-container\"><div class=\"sk-label sk-toggleable\"><input class=\"sk-toggleable__control sk-hidden--visually\" id=\"sk-estimator-id-3\" type=\"checkbox\" ><label for=\"sk-estimator-id-3\" class=\"sk-toggleable__label sk-toggleable__label-arrow\">BaggingRegressor</label><div class=\"sk-toggleable__content\"><pre>BaggingRegressor(base_estimator=DecisionTreeRegressor(max_depth=6,\n",
              "                                                      max_features=&#x27;sqrt&#x27;,\n",
              "                                                      random_state=42),\n",
              "                 random_state=42)</pre></div></div></div><div class=\"sk-parallel\"><div class=\"sk-parallel-item\"><div class=\"sk-item\"><div class=\"sk-label-container\"><div class=\"sk-label sk-toggleable\"><input class=\"sk-toggleable__control sk-hidden--visually\" id=\"sk-estimator-id-4\" type=\"checkbox\" ><label for=\"sk-estimator-id-4\" class=\"sk-toggleable__label sk-toggleable__label-arrow\">base_estimator: DecisionTreeRegressor</label><div class=\"sk-toggleable__content\"><pre>DecisionTreeRegressor(max_depth=6, max_features=&#x27;sqrt&#x27;, random_state=42)</pre></div></div></div><div class=\"sk-serial\"><div class=\"sk-item\"><div class=\"sk-estimator sk-toggleable\"><input class=\"sk-toggleable__control sk-hidden--visually\" id=\"sk-estimator-id-5\" type=\"checkbox\" ><label for=\"sk-estimator-id-5\" class=\"sk-toggleable__label sk-toggleable__label-arrow\">DecisionTreeRegressor</label><div class=\"sk-toggleable__content\"><pre>DecisionTreeRegressor(max_depth=6, max_features=&#x27;sqrt&#x27;, random_state=42)</pre></div></div></div></div></div></div></div></div></div></div>"
            ],
            "text/plain": [
              "BaggingRegressor(base_estimator=DecisionTreeRegressor(max_depth=6,\n",
              "                                                      max_features='sqrt',\n",
              "                                                      random_state=42),\n",
              "                 random_state=42)"
            ]
          },
          "execution_count": 92,
          "metadata": {},
          "output_type": "execute_result"
        }
      ],
      "source": [
        "from sklearn.ensemble import BaggingRegressor\n",
        "\n",
        "model4 = BaggingRegressor(base_estimator= model1,random_state= rdst)\n",
        "model4.fit(xtrain, ytrain)"
      ]
    },
    {
      "cell_type": "code",
      "execution_count": null,
      "id": "be084092",
      "metadata": {
        "id": "be084092",
        "outputId": "79bde084-32bf-403b-eda3-ce6bbd99318a"
      },
      "outputs": [
        {
          "data": {
            "text/plain": [
              "0.652308846406233"
            ]
          },
          "execution_count": 93,
          "metadata": {},
          "output_type": "execute_result"
        }
      ],
      "source": [
        "sc4tr = model4.score(xtrain, ytrain)\n",
        "sc4tr"
      ]
    },
    {
      "cell_type": "code",
      "execution_count": null,
      "id": "8b609601",
      "metadata": {
        "id": "8b609601",
        "outputId": "24acd8b4-ed11-47ba-c9b8-d79bde50ddd3"
      },
      "outputs": [
        {
          "data": {
            "text/plain": [
              "0.6336399295358104"
            ]
          },
          "execution_count": 94,
          "metadata": {},
          "output_type": "execute_result"
        }
      ],
      "source": [
        "sc4ts = model4.score(xtest, ytest)\n",
        "sc4ts"
      ]
    },
    {
      "cell_type": "code",
      "execution_count": null,
      "id": "174776ca",
      "metadata": {
        "id": "174776ca"
      },
      "outputs": [],
      "source": [
        "#adding values for performance report\n",
        "count = count + 1"
      ]
    },
    {
      "cell_type": "markdown",
      "id": "e5b0a4ef",
      "metadata": {
        "id": "e5b0a4ef"
      },
      "source": [
        "#### 5) AdaBoostRegressor"
      ]
    },
    {
      "cell_type": "code",
      "execution_count": null,
      "id": "093bc20d",
      "metadata": {
        "id": "093bc20d",
        "outputId": "5c39caea-2a16-48f9-e4e7-c4e2b288f674"
      },
      "outputs": [
        {
          "name": "stderr",
          "output_type": "stream",
          "text": [
            "C:\\Users\\prana\\anaconda3\\lib\\site-packages\\sklearn\\utils\\validation.py:1141: DataConversionWarning: A column-vector y was passed when a 1d array was expected. Please change the shape of y to (n_samples, ), for example using ravel().\n",
            "  y = column_or_1d(y, warn=True)\n"
          ]
        },
        {
          "data": {
            "text/html": [
              "<style>#sk-container-id-4 {color: black;background-color: white;}#sk-container-id-4 pre{padding: 0;}#sk-container-id-4 div.sk-toggleable {background-color: white;}#sk-container-id-4 label.sk-toggleable__label {cursor: pointer;display: block;width: 100%;margin-bottom: 0;padding: 0.3em;box-sizing: border-box;text-align: center;}#sk-container-id-4 label.sk-toggleable__label-arrow:before {content: \"▸\";float: left;margin-right: 0.25em;color: #696969;}#sk-container-id-4 label.sk-toggleable__label-arrow:hover:before {color: black;}#sk-container-id-4 div.sk-estimator:hover label.sk-toggleable__label-arrow:before {color: black;}#sk-container-id-4 div.sk-toggleable__content {max-height: 0;max-width: 0;overflow: hidden;text-align: left;background-color: #f0f8ff;}#sk-container-id-4 div.sk-toggleable__content pre {margin: 0.2em;color: black;border-radius: 0.25em;background-color: #f0f8ff;}#sk-container-id-4 input.sk-toggleable__control:checked~div.sk-toggleable__content {max-height: 200px;max-width: 100%;overflow: auto;}#sk-container-id-4 input.sk-toggleable__control:checked~label.sk-toggleable__label-arrow:before {content: \"▾\";}#sk-container-id-4 div.sk-estimator input.sk-toggleable__control:checked~label.sk-toggleable__label {background-color: #d4ebff;}#sk-container-id-4 div.sk-label input.sk-toggleable__control:checked~label.sk-toggleable__label {background-color: #d4ebff;}#sk-container-id-4 input.sk-hidden--visually {border: 0;clip: rect(1px 1px 1px 1px);clip: rect(1px, 1px, 1px, 1px);height: 1px;margin: -1px;overflow: hidden;padding: 0;position: absolute;width: 1px;}#sk-container-id-4 div.sk-estimator {font-family: monospace;background-color: #f0f8ff;border: 1px dotted black;border-radius: 0.25em;box-sizing: border-box;margin-bottom: 0.5em;}#sk-container-id-4 div.sk-estimator:hover {background-color: #d4ebff;}#sk-container-id-4 div.sk-parallel-item::after {content: \"\";width: 100%;border-bottom: 1px solid gray;flex-grow: 1;}#sk-container-id-4 div.sk-label:hover label.sk-toggleable__label {background-color: #d4ebff;}#sk-container-id-4 div.sk-serial::before {content: \"\";position: absolute;border-left: 1px solid gray;box-sizing: border-box;top: 0;bottom: 0;left: 50%;z-index: 0;}#sk-container-id-4 div.sk-serial {display: flex;flex-direction: column;align-items: center;background-color: white;padding-right: 0.2em;padding-left: 0.2em;position: relative;}#sk-container-id-4 div.sk-item {position: relative;z-index: 1;}#sk-container-id-4 div.sk-parallel {display: flex;align-items: stretch;justify-content: center;background-color: white;position: relative;}#sk-container-id-4 div.sk-item::before, #sk-container-id-4 div.sk-parallel-item::before {content: \"\";position: absolute;border-left: 1px solid gray;box-sizing: border-box;top: 0;bottom: 0;left: 50%;z-index: -1;}#sk-container-id-4 div.sk-parallel-item {display: flex;flex-direction: column;z-index: 1;position: relative;background-color: white;}#sk-container-id-4 div.sk-parallel-item:first-child::after {align-self: flex-end;width: 50%;}#sk-container-id-4 div.sk-parallel-item:last-child::after {align-self: flex-start;width: 50%;}#sk-container-id-4 div.sk-parallel-item:only-child::after {width: 0;}#sk-container-id-4 div.sk-dashed-wrapped {border: 1px dashed gray;margin: 0 0.4em 0.5em 0.4em;box-sizing: border-box;padding-bottom: 0.4em;background-color: white;}#sk-container-id-4 div.sk-label label {font-family: monospace;font-weight: bold;display: inline-block;line-height: 1.2em;}#sk-container-id-4 div.sk-label-container {text-align: center;}#sk-container-id-4 div.sk-container {/* jupyter's `normalize.less` sets `[hidden] { display: none; }` but bootstrap.min.css set `[hidden] { display: none !important; }` so we also need the `!important` here to be able to override the default hidden behavior on the sphinx rendered scikit-learn.org. See: https://github.com/scikit-learn/scikit-learn/issues/21755 */display: inline-block !important;position: relative;}#sk-container-id-4 div.sk-text-repr-fallback {display: none;}</style><div id=\"sk-container-id-4\" class=\"sk-top-container\"><div class=\"sk-text-repr-fallback\"><pre>AdaBoostRegressor(random_state=42)</pre><b>In a Jupyter environment, please rerun this cell to show the HTML representation or trust the notebook. <br />On GitHub, the HTML representation is unable to render, please try loading this page with nbviewer.org.</b></div><div class=\"sk-container\" hidden><div class=\"sk-item\"><div class=\"sk-estimator sk-toggleable\"><input class=\"sk-toggleable__control sk-hidden--visually\" id=\"sk-estimator-id-6\" type=\"checkbox\" checked><label for=\"sk-estimator-id-6\" class=\"sk-toggleable__label sk-toggleable__label-arrow\">AdaBoostRegressor</label><div class=\"sk-toggleable__content\"><pre>AdaBoostRegressor(random_state=42)</pre></div></div></div></div></div>"
            ],
            "text/plain": [
              "AdaBoostRegressor(random_state=42)"
            ]
          },
          "execution_count": 96,
          "metadata": {},
          "output_type": "execute_result"
        }
      ],
      "source": [
        "from sklearn.ensemble import AdaBoostRegressor\n",
        "\n",
        "model5 = AdaBoostRegressor(random_state= rdst)\n",
        "model5.fit(xtrain, ytrain)"
      ]
    },
    {
      "cell_type": "code",
      "execution_count": null,
      "id": "628622ed",
      "metadata": {
        "id": "628622ed",
        "outputId": "42e9c58d-f34e-4975-ff19-b12d5d8362fd"
      },
      "outputs": [
        {
          "data": {
            "text/plain": [
              "-2.2272072831151832"
            ]
          },
          "execution_count": 97,
          "metadata": {},
          "output_type": "execute_result"
        }
      ],
      "source": [
        "sc5tr = model5.score(xtrain, ytrain)\n",
        "sc5tr"
      ]
    },
    {
      "cell_type": "code",
      "execution_count": null,
      "id": "6453bdb3",
      "metadata": {
        "id": "6453bdb3",
        "outputId": "b4460355-85a9-4679-cf52-ff1366894f7d"
      },
      "outputs": [
        {
          "data": {
            "text/plain": [
              "-2.3303117860593052"
            ]
          },
          "execution_count": 98,
          "metadata": {},
          "output_type": "execute_result"
        }
      ],
      "source": [
        "sc5ts = model5.score(xtest, ytest)\n",
        "sc5ts"
      ]
    },
    {
      "cell_type": "code",
      "execution_count": null,
      "id": "3abbdeb0",
      "metadata": {
        "id": "3abbdeb0"
      },
      "outputs": [],
      "source": [
        "#adding values for performance report\n",
        "count = count + 1"
      ]
    },
    {
      "cell_type": "markdown",
      "id": "4d941373",
      "metadata": {
        "id": "4d941373"
      },
      "source": [
        "#### 6) GradientBoostingRegressor"
      ]
    },
    {
      "cell_type": "code",
      "execution_count": null,
      "id": "0765cfff",
      "metadata": {
        "id": "0765cfff",
        "outputId": "4ad03dd0-70ae-4a63-eac5-f7cb2f636169"
      },
      "outputs": [
        {
          "name": "stderr",
          "output_type": "stream",
          "text": [
            "C:\\Users\\prana\\anaconda3\\lib\\site-packages\\sklearn\\ensemble\\_gb.py:437: DataConversionWarning: A column-vector y was passed when a 1d array was expected. Please change the shape of y to (n_samples, ), for example using ravel().\n",
            "  y = column_or_1d(y, warn=True)\n"
          ]
        },
        {
          "data": {
            "text/html": [
              "<style>#sk-container-id-5 {color: black;background-color: white;}#sk-container-id-5 pre{padding: 0;}#sk-container-id-5 div.sk-toggleable {background-color: white;}#sk-container-id-5 label.sk-toggleable__label {cursor: pointer;display: block;width: 100%;margin-bottom: 0;padding: 0.3em;box-sizing: border-box;text-align: center;}#sk-container-id-5 label.sk-toggleable__label-arrow:before {content: \"▸\";float: left;margin-right: 0.25em;color: #696969;}#sk-container-id-5 label.sk-toggleable__label-arrow:hover:before {color: black;}#sk-container-id-5 div.sk-estimator:hover label.sk-toggleable__label-arrow:before {color: black;}#sk-container-id-5 div.sk-toggleable__content {max-height: 0;max-width: 0;overflow: hidden;text-align: left;background-color: #f0f8ff;}#sk-container-id-5 div.sk-toggleable__content pre {margin: 0.2em;color: black;border-radius: 0.25em;background-color: #f0f8ff;}#sk-container-id-5 input.sk-toggleable__control:checked~div.sk-toggleable__content {max-height: 200px;max-width: 100%;overflow: auto;}#sk-container-id-5 input.sk-toggleable__control:checked~label.sk-toggleable__label-arrow:before {content: \"▾\";}#sk-container-id-5 div.sk-estimator input.sk-toggleable__control:checked~label.sk-toggleable__label {background-color: #d4ebff;}#sk-container-id-5 div.sk-label input.sk-toggleable__control:checked~label.sk-toggleable__label {background-color: #d4ebff;}#sk-container-id-5 input.sk-hidden--visually {border: 0;clip: rect(1px 1px 1px 1px);clip: rect(1px, 1px, 1px, 1px);height: 1px;margin: -1px;overflow: hidden;padding: 0;position: absolute;width: 1px;}#sk-container-id-5 div.sk-estimator {font-family: monospace;background-color: #f0f8ff;border: 1px dotted black;border-radius: 0.25em;box-sizing: border-box;margin-bottom: 0.5em;}#sk-container-id-5 div.sk-estimator:hover {background-color: #d4ebff;}#sk-container-id-5 div.sk-parallel-item::after {content: \"\";width: 100%;border-bottom: 1px solid gray;flex-grow: 1;}#sk-container-id-5 div.sk-label:hover label.sk-toggleable__label {background-color: #d4ebff;}#sk-container-id-5 div.sk-serial::before {content: \"\";position: absolute;border-left: 1px solid gray;box-sizing: border-box;top: 0;bottom: 0;left: 50%;z-index: 0;}#sk-container-id-5 div.sk-serial {display: flex;flex-direction: column;align-items: center;background-color: white;padding-right: 0.2em;padding-left: 0.2em;position: relative;}#sk-container-id-5 div.sk-item {position: relative;z-index: 1;}#sk-container-id-5 div.sk-parallel {display: flex;align-items: stretch;justify-content: center;background-color: white;position: relative;}#sk-container-id-5 div.sk-item::before, #sk-container-id-5 div.sk-parallel-item::before {content: \"\";position: absolute;border-left: 1px solid gray;box-sizing: border-box;top: 0;bottom: 0;left: 50%;z-index: -1;}#sk-container-id-5 div.sk-parallel-item {display: flex;flex-direction: column;z-index: 1;position: relative;background-color: white;}#sk-container-id-5 div.sk-parallel-item:first-child::after {align-self: flex-end;width: 50%;}#sk-container-id-5 div.sk-parallel-item:last-child::after {align-self: flex-start;width: 50%;}#sk-container-id-5 div.sk-parallel-item:only-child::after {width: 0;}#sk-container-id-5 div.sk-dashed-wrapped {border: 1px dashed gray;margin: 0 0.4em 0.5em 0.4em;box-sizing: border-box;padding-bottom: 0.4em;background-color: white;}#sk-container-id-5 div.sk-label label {font-family: monospace;font-weight: bold;display: inline-block;line-height: 1.2em;}#sk-container-id-5 div.sk-label-container {text-align: center;}#sk-container-id-5 div.sk-container {/* jupyter's `normalize.less` sets `[hidden] { display: none; }` but bootstrap.min.css set `[hidden] { display: none !important; }` so we also need the `!important` here to be able to override the default hidden behavior on the sphinx rendered scikit-learn.org. See: https://github.com/scikit-learn/scikit-learn/issues/21755 */display: inline-block !important;position: relative;}#sk-container-id-5 div.sk-text-repr-fallback {display: none;}</style><div id=\"sk-container-id-5\" class=\"sk-top-container\"><div class=\"sk-text-repr-fallback\"><pre>GradientBoostingRegressor(random_state=42)</pre><b>In a Jupyter environment, please rerun this cell to show the HTML representation or trust the notebook. <br />On GitHub, the HTML representation is unable to render, please try loading this page with nbviewer.org.</b></div><div class=\"sk-container\" hidden><div class=\"sk-item\"><div class=\"sk-estimator sk-toggleable\"><input class=\"sk-toggleable__control sk-hidden--visually\" id=\"sk-estimator-id-7\" type=\"checkbox\" checked><label for=\"sk-estimator-id-7\" class=\"sk-toggleable__label sk-toggleable__label-arrow\">GradientBoostingRegressor</label><div class=\"sk-toggleable__content\"><pre>GradientBoostingRegressor(random_state=42)</pre></div></div></div></div></div>"
            ],
            "text/plain": [
              "GradientBoostingRegressor(random_state=42)"
            ]
          },
          "execution_count": 100,
          "metadata": {},
          "output_type": "execute_result"
        }
      ],
      "source": [
        "from sklearn.ensemble import GradientBoostingRegressor\n",
        "\n",
        "model6 = GradientBoostingRegressor(random_state= rdst)\n",
        "model6.fit(xtrain, ytrain)"
      ]
    },
    {
      "cell_type": "code",
      "execution_count": null,
      "id": "8a332c27",
      "metadata": {
        "id": "8a332c27",
        "outputId": "77e35887-6e4a-4b52-9fac-5ca70a064ef5"
      },
      "outputs": [
        {
          "data": {
            "text/plain": [
              "0.7726810383487652"
            ]
          },
          "execution_count": 101,
          "metadata": {},
          "output_type": "execute_result"
        }
      ],
      "source": [
        "sc6tr = model6.score(xtrain, ytrain)\n",
        "sc6tr"
      ]
    },
    {
      "cell_type": "code",
      "execution_count": null,
      "id": "f2189b83",
      "metadata": {
        "id": "f2189b83",
        "outputId": "db806ee6-231d-4d07-c95c-c608d0f0c3d2"
      },
      "outputs": [
        {
          "data": {
            "text/plain": [
              "0.7290197996595463"
            ]
          },
          "execution_count": 102,
          "metadata": {},
          "output_type": "execute_result"
        }
      ],
      "source": [
        "sc6ts = model6.score(xtest, ytest)\n",
        "sc6ts"
      ]
    },
    {
      "cell_type": "code",
      "execution_count": null,
      "id": "0713eff0",
      "metadata": {
        "id": "0713eff0"
      },
      "outputs": [],
      "source": [
        "#adding values for performance report\n",
        "count = count + 1"
      ]
    },
    {
      "cell_type": "markdown",
      "id": "57ecbc82",
      "metadata": {
        "id": "57ecbc82"
      },
      "source": [
        "#### 7) RandomForestRegressor"
      ]
    },
    {
      "cell_type": "code",
      "execution_count": null,
      "id": "0541f6a4",
      "metadata": {
        "id": "0541f6a4",
        "outputId": "d62d0cf6-7159-4af3-837b-34efbd8d9f98"
      },
      "outputs": [
        {
          "name": "stderr",
          "output_type": "stream",
          "text": [
            "C:\\Users\\prana\\AppData\\Local\\Temp/ipykernel_20256/3103751781.py:4: DataConversionWarning: A column-vector y was passed when a 1d array was expected. Please change the shape of y to (n_samples,), for example using ravel().\n",
            "  model7.fit(xtrain, ytrain)\n"
          ]
        },
        {
          "data": {
            "text/html": [
              "<style>#sk-container-id-6 {color: black;background-color: white;}#sk-container-id-6 pre{padding: 0;}#sk-container-id-6 div.sk-toggleable {background-color: white;}#sk-container-id-6 label.sk-toggleable__label {cursor: pointer;display: block;width: 100%;margin-bottom: 0;padding: 0.3em;box-sizing: border-box;text-align: center;}#sk-container-id-6 label.sk-toggleable__label-arrow:before {content: \"▸\";float: left;margin-right: 0.25em;color: #696969;}#sk-container-id-6 label.sk-toggleable__label-arrow:hover:before {color: black;}#sk-container-id-6 div.sk-estimator:hover label.sk-toggleable__label-arrow:before {color: black;}#sk-container-id-6 div.sk-toggleable__content {max-height: 0;max-width: 0;overflow: hidden;text-align: left;background-color: #f0f8ff;}#sk-container-id-6 div.sk-toggleable__content pre {margin: 0.2em;color: black;border-radius: 0.25em;background-color: #f0f8ff;}#sk-container-id-6 input.sk-toggleable__control:checked~div.sk-toggleable__content {max-height: 200px;max-width: 100%;overflow: auto;}#sk-container-id-6 input.sk-toggleable__control:checked~label.sk-toggleable__label-arrow:before {content: \"▾\";}#sk-container-id-6 div.sk-estimator input.sk-toggleable__control:checked~label.sk-toggleable__label {background-color: #d4ebff;}#sk-container-id-6 div.sk-label input.sk-toggleable__control:checked~label.sk-toggleable__label {background-color: #d4ebff;}#sk-container-id-6 input.sk-hidden--visually {border: 0;clip: rect(1px 1px 1px 1px);clip: rect(1px, 1px, 1px, 1px);height: 1px;margin: -1px;overflow: hidden;padding: 0;position: absolute;width: 1px;}#sk-container-id-6 div.sk-estimator {font-family: monospace;background-color: #f0f8ff;border: 1px dotted black;border-radius: 0.25em;box-sizing: border-box;margin-bottom: 0.5em;}#sk-container-id-6 div.sk-estimator:hover {background-color: #d4ebff;}#sk-container-id-6 div.sk-parallel-item::after {content: \"\";width: 100%;border-bottom: 1px solid gray;flex-grow: 1;}#sk-container-id-6 div.sk-label:hover label.sk-toggleable__label {background-color: #d4ebff;}#sk-container-id-6 div.sk-serial::before {content: \"\";position: absolute;border-left: 1px solid gray;box-sizing: border-box;top: 0;bottom: 0;left: 50%;z-index: 0;}#sk-container-id-6 div.sk-serial {display: flex;flex-direction: column;align-items: center;background-color: white;padding-right: 0.2em;padding-left: 0.2em;position: relative;}#sk-container-id-6 div.sk-item {position: relative;z-index: 1;}#sk-container-id-6 div.sk-parallel {display: flex;align-items: stretch;justify-content: center;background-color: white;position: relative;}#sk-container-id-6 div.sk-item::before, #sk-container-id-6 div.sk-parallel-item::before {content: \"\";position: absolute;border-left: 1px solid gray;box-sizing: border-box;top: 0;bottom: 0;left: 50%;z-index: -1;}#sk-container-id-6 div.sk-parallel-item {display: flex;flex-direction: column;z-index: 1;position: relative;background-color: white;}#sk-container-id-6 div.sk-parallel-item:first-child::after {align-self: flex-end;width: 50%;}#sk-container-id-6 div.sk-parallel-item:last-child::after {align-self: flex-start;width: 50%;}#sk-container-id-6 div.sk-parallel-item:only-child::after {width: 0;}#sk-container-id-6 div.sk-dashed-wrapped {border: 1px dashed gray;margin: 0 0.4em 0.5em 0.4em;box-sizing: border-box;padding-bottom: 0.4em;background-color: white;}#sk-container-id-6 div.sk-label label {font-family: monospace;font-weight: bold;display: inline-block;line-height: 1.2em;}#sk-container-id-6 div.sk-label-container {text-align: center;}#sk-container-id-6 div.sk-container {/* jupyter's `normalize.less` sets `[hidden] { display: none; }` but bootstrap.min.css set `[hidden] { display: none !important; }` so we also need the `!important` here to be able to override the default hidden behavior on the sphinx rendered scikit-learn.org. See: https://github.com/scikit-learn/scikit-learn/issues/21755 */display: inline-block !important;position: relative;}#sk-container-id-6 div.sk-text-repr-fallback {display: none;}</style><div id=\"sk-container-id-6\" class=\"sk-top-container\"><div class=\"sk-text-repr-fallback\"><pre>RandomForestRegressor(min_samples_split=8, n_jobs=2, random_state=42)</pre><b>In a Jupyter environment, please rerun this cell to show the HTML representation or trust the notebook. <br />On GitHub, the HTML representation is unable to render, please try loading this page with nbviewer.org.</b></div><div class=\"sk-container\" hidden><div class=\"sk-item\"><div class=\"sk-estimator sk-toggleable\"><input class=\"sk-toggleable__control sk-hidden--visually\" id=\"sk-estimator-id-8\" type=\"checkbox\" checked><label for=\"sk-estimator-id-8\" class=\"sk-toggleable__label sk-toggleable__label-arrow\">RandomForestRegressor</label><div class=\"sk-toggleable__content\"><pre>RandomForestRegressor(min_samples_split=8, n_jobs=2, random_state=42)</pre></div></div></div></div></div>"
            ],
            "text/plain": [
              "RandomForestRegressor(min_samples_split=8, n_jobs=2, random_state=42)"
            ]
          },
          "execution_count": 104,
          "metadata": {},
          "output_type": "execute_result"
        }
      ],
      "source": [
        "from sklearn.ensemble import RandomForestRegressor\n",
        "\n",
        "model7 = RandomForestRegressor(n_jobs= 2, random_state= rdst, min_samples_split= 8, min_samples_leaf= 1)\n",
        "model7.fit(xtrain, ytrain)"
      ]
    },
    {
      "cell_type": "code",
      "execution_count": null,
      "id": "c91b4e5b",
      "metadata": {
        "id": "c91b4e5b",
        "outputId": "419b870a-5dd5-4600-aee5-54ce5dabd35d"
      },
      "outputs": [
        {
          "data": {
            "text/plain": [
              "0.9337961111419366"
            ]
          },
          "execution_count": 105,
          "metadata": {},
          "output_type": "execute_result"
        }
      ],
      "source": [
        "sc7tr = model7.score(xtrain, ytrain)\n",
        "sc7tr"
      ]
    },
    {
      "cell_type": "code",
      "execution_count": null,
      "id": "81734651",
      "metadata": {
        "id": "81734651",
        "outputId": "79e44d71-3c07-44b4-c278-f1936f90b36a"
      },
      "outputs": [
        {
          "data": {
            "text/plain": [
              "0.7834731216316448"
            ]
          },
          "execution_count": 106,
          "metadata": {},
          "output_type": "execute_result"
        }
      ],
      "source": [
        "sc7ts = model7.score(xtest, ytest)\n",
        "sc7ts"
      ]
    },
    {
      "cell_type": "code",
      "execution_count": null,
      "id": "a78f1a57",
      "metadata": {
        "id": "a78f1a57"
      },
      "outputs": [],
      "source": [
        "#adding values for performance report\n",
        "count = count + 1"
      ]
    },
    {
      "cell_type": "code",
      "execution_count": null,
      "id": "03323a73",
      "metadata": {
        "id": "03323a73"
      },
      "outputs": [],
      "source": [
        "y_preds = model7"
      ]
    },
    {
      "cell_type": "raw",
      "id": "ac59830e",
      "metadata": {
        "id": "ac59830e"
      },
      "source": [
        "from sklearn.model_selection import RandomizedSearchCV\n",
        "\n",
        "grid = {\"n_estimators\": [10, 100, 200, 500, 1000, 1200],\n",
        "       \"max_depth\": [None, 5, 10, 15, 20, 25, 30, 35, 40, 45, 50, 55],\n",
        "       \"max_features\": [\"auto\", \"sqrt\", \"log2\"],\n",
        "        \"criterion\": ['squared_error', 'friedman_mse', 'poisson', 'absolute_error'],\n",
        "        \"min_samples_split\": [2,3,4,5,6,7,8,9,10],\n",
        "       \"min_samples_leaf\": [1,2,4],\n",
        "       \"min_impurity_decrease\":[0,0, 0.05, 0.1],\n",
        "       \"bootstrap\": [True, False]}\n",
        "\n",
        "rs_clf = RandomizedSearchCV(estimator= model7,\n",
        "                           param_distributions=grid,\n",
        "                           n_iter=10,\n",
        "                           cv=5,\n",
        "                           verbose=2)\n",
        "rs_clf.fit(xtrain, ytrain)"
      ]
    },
    {
      "cell_type": "raw",
      "id": "510fd8cd",
      "metadata": {
        "id": "510fd8cd"
      },
      "source": [
        "from sklearn.model_selection import cross_val_score\n",
        "\n",
        "scores=cross_val_score(model7, X, y, cv=3, scoring='neg_mean_squared_error')"
      ]
    },
    {
      "cell_type": "markdown",
      "id": "c603edcc",
      "metadata": {
        "id": "c603edcc"
      },
      "source": [
        "#### 8) Simple Linear Regression"
      ]
    },
    {
      "cell_type": "code",
      "execution_count": null,
      "id": "3781bff2",
      "metadata": {
        "id": "3781bff2",
        "outputId": "f4639140-0c0a-442b-be73-e64faeec83e5"
      },
      "outputs": [
        {
          "data": {
            "text/html": [
              "<style>#sk-container-id-7 {color: black;background-color: white;}#sk-container-id-7 pre{padding: 0;}#sk-container-id-7 div.sk-toggleable {background-color: white;}#sk-container-id-7 label.sk-toggleable__label {cursor: pointer;display: block;width: 100%;margin-bottom: 0;padding: 0.3em;box-sizing: border-box;text-align: center;}#sk-container-id-7 label.sk-toggleable__label-arrow:before {content: \"▸\";float: left;margin-right: 0.25em;color: #696969;}#sk-container-id-7 label.sk-toggleable__label-arrow:hover:before {color: black;}#sk-container-id-7 div.sk-estimator:hover label.sk-toggleable__label-arrow:before {color: black;}#sk-container-id-7 div.sk-toggleable__content {max-height: 0;max-width: 0;overflow: hidden;text-align: left;background-color: #f0f8ff;}#sk-container-id-7 div.sk-toggleable__content pre {margin: 0.2em;color: black;border-radius: 0.25em;background-color: #f0f8ff;}#sk-container-id-7 input.sk-toggleable__control:checked~div.sk-toggleable__content {max-height: 200px;max-width: 100%;overflow: auto;}#sk-container-id-7 input.sk-toggleable__control:checked~label.sk-toggleable__label-arrow:before {content: \"▾\";}#sk-container-id-7 div.sk-estimator input.sk-toggleable__control:checked~label.sk-toggleable__label {background-color: #d4ebff;}#sk-container-id-7 div.sk-label input.sk-toggleable__control:checked~label.sk-toggleable__label {background-color: #d4ebff;}#sk-container-id-7 input.sk-hidden--visually {border: 0;clip: rect(1px 1px 1px 1px);clip: rect(1px, 1px, 1px, 1px);height: 1px;margin: -1px;overflow: hidden;padding: 0;position: absolute;width: 1px;}#sk-container-id-7 div.sk-estimator {font-family: monospace;background-color: #f0f8ff;border: 1px dotted black;border-radius: 0.25em;box-sizing: border-box;margin-bottom: 0.5em;}#sk-container-id-7 div.sk-estimator:hover {background-color: #d4ebff;}#sk-container-id-7 div.sk-parallel-item::after {content: \"\";width: 100%;border-bottom: 1px solid gray;flex-grow: 1;}#sk-container-id-7 div.sk-label:hover label.sk-toggleable__label {background-color: #d4ebff;}#sk-container-id-7 div.sk-serial::before {content: \"\";position: absolute;border-left: 1px solid gray;box-sizing: border-box;top: 0;bottom: 0;left: 50%;z-index: 0;}#sk-container-id-7 div.sk-serial {display: flex;flex-direction: column;align-items: center;background-color: white;padding-right: 0.2em;padding-left: 0.2em;position: relative;}#sk-container-id-7 div.sk-item {position: relative;z-index: 1;}#sk-container-id-7 div.sk-parallel {display: flex;align-items: stretch;justify-content: center;background-color: white;position: relative;}#sk-container-id-7 div.sk-item::before, #sk-container-id-7 div.sk-parallel-item::before {content: \"\";position: absolute;border-left: 1px solid gray;box-sizing: border-box;top: 0;bottom: 0;left: 50%;z-index: -1;}#sk-container-id-7 div.sk-parallel-item {display: flex;flex-direction: column;z-index: 1;position: relative;background-color: white;}#sk-container-id-7 div.sk-parallel-item:first-child::after {align-self: flex-end;width: 50%;}#sk-container-id-7 div.sk-parallel-item:last-child::after {align-self: flex-start;width: 50%;}#sk-container-id-7 div.sk-parallel-item:only-child::after {width: 0;}#sk-container-id-7 div.sk-dashed-wrapped {border: 1px dashed gray;margin: 0 0.4em 0.5em 0.4em;box-sizing: border-box;padding-bottom: 0.4em;background-color: white;}#sk-container-id-7 div.sk-label label {font-family: monospace;font-weight: bold;display: inline-block;line-height: 1.2em;}#sk-container-id-7 div.sk-label-container {text-align: center;}#sk-container-id-7 div.sk-container {/* jupyter's `normalize.less` sets `[hidden] { display: none; }` but bootstrap.min.css set `[hidden] { display: none !important; }` so we also need the `!important` here to be able to override the default hidden behavior on the sphinx rendered scikit-learn.org. See: https://github.com/scikit-learn/scikit-learn/issues/21755 */display: inline-block !important;position: relative;}#sk-container-id-7 div.sk-text-repr-fallback {display: none;}</style><div id=\"sk-container-id-7\" class=\"sk-top-container\"><div class=\"sk-text-repr-fallback\"><pre>LinearRegression()</pre><b>In a Jupyter environment, please rerun this cell to show the HTML representation or trust the notebook. <br />On GitHub, the HTML representation is unable to render, please try loading this page with nbviewer.org.</b></div><div class=\"sk-container\" hidden><div class=\"sk-item\"><div class=\"sk-estimator sk-toggleable\"><input class=\"sk-toggleable__control sk-hidden--visually\" id=\"sk-estimator-id-9\" type=\"checkbox\" checked><label for=\"sk-estimator-id-9\" class=\"sk-toggleable__label sk-toggleable__label-arrow\">LinearRegression</label><div class=\"sk-toggleable__content\"><pre>LinearRegression()</pre></div></div></div></div></div>"
            ],
            "text/plain": [
              "LinearRegression()"
            ]
          },
          "execution_count": 109,
          "metadata": {},
          "output_type": "execute_result"
        }
      ],
      "source": [
        "from sklearn.linear_model import LinearRegression\n",
        "\n",
        "model8 = LinearRegression()\n",
        "model8.fit(xtrain, ytrain)"
      ]
    },
    {
      "cell_type": "code",
      "execution_count": null,
      "id": "a315d4c8",
      "metadata": {
        "id": "a315d4c8",
        "outputId": "1f432b8d-7460-4e2f-fdfd-d25660c7f2a7"
      },
      "outputs": [
        {
          "data": {
            "text/plain": [
              "0.0025470733714684224"
            ]
          },
          "execution_count": 110,
          "metadata": {},
          "output_type": "execute_result"
        }
      ],
      "source": [
        "sc8tr = model8.score(xtrain, ytrain)\n",
        "sc8tr"
      ]
    },
    {
      "cell_type": "code",
      "execution_count": null,
      "id": "7113278a",
      "metadata": {
        "id": "7113278a",
        "outputId": "ede36f93-a7f5-42b5-cbd6-d604ae8411e7"
      },
      "outputs": [
        {
          "data": {
            "text/plain": [
              "0.0025690736825197957"
            ]
          },
          "execution_count": 111,
          "metadata": {},
          "output_type": "execute_result"
        }
      ],
      "source": [
        "sc8ts = model8.score(xtest, ytest)\n",
        "sc8ts"
      ]
    },
    {
      "cell_type": "code",
      "execution_count": null,
      "id": "a2ad8b01",
      "metadata": {
        "id": "a2ad8b01"
      },
      "outputs": [],
      "source": [
        "#adding values for performance report\n",
        "count = count + 1"
      ]
    },
    {
      "cell_type": "markdown",
      "id": "7d097eec",
      "metadata": {
        "id": "7d097eec"
      },
      "source": [
        "#### 9) GausianRegressor"
      ]
    },
    {
      "cell_type": "raw",
      "id": "dfa04b51",
      "metadata": {
        "id": "dfa04b51"
      },
      "source": [
        "from sklearn.gaussian_process import GaussianProcessRegressor\n",
        "from sklearn.gaussian_process.kernels import (RBF, Matern, RationalQuadratic,ExpSineSquared, DotProduct,ConstantKernel)\n",
        "                                              \n",
        "# Determination of the kernel used and the value lenght_scale at which the optimization process starts\n",
        "kernel = 1.0 * RBF(length_scale=1.0, length_scale_bounds=(1e-2, 1e3))\n",
        "\n",
        "# Application of the regressor (alpha makes a statement about a possible noise of the training data)\n",
        "model9 = GaussianProcessRegressor(kernel=kernel, alpha=0.1)\n",
        "model9.fit(xtrain, ytrain)"
      ]
    },
    {
      "cell_type": "raw",
      "id": "aaebd4bb",
      "metadata": {
        "id": "aaebd4bb"
      },
      "source": [
        "sc9tr = model8.score(xtrain, ytrain)\n",
        "sc9tr"
      ]
    },
    {
      "cell_type": "raw",
      "id": "8f8ba595",
      "metadata": {
        "id": "8f8ba595"
      },
      "source": [
        "sc9ts = model8.score(xtest, ytest)\n",
        "sc9ts"
      ]
    },
    {
      "cell_type": "code",
      "execution_count": null,
      "id": "38ae72d0",
      "metadata": {
        "id": "38ae72d0"
      },
      "outputs": [],
      "source": [
        "#adding values for performance report\n",
        "count = count + 1"
      ]
    },
    {
      "cell_type": "markdown",
      "id": "87ea3528",
      "metadata": {
        "id": "87ea3528"
      },
      "source": [
        "#### 10) K nearest neighbour"
      ]
    },
    {
      "cell_type": "code",
      "execution_count": null,
      "id": "59867023",
      "metadata": {
        "id": "59867023",
        "outputId": "b9d1cdd5-74bf-43a3-dcd4-6a3b4c0e854b"
      },
      "outputs": [
        {
          "data": {
            "text/html": [
              "<style>#sk-container-id-8 {color: black;background-color: white;}#sk-container-id-8 pre{padding: 0;}#sk-container-id-8 div.sk-toggleable {background-color: white;}#sk-container-id-8 label.sk-toggleable__label {cursor: pointer;display: block;width: 100%;margin-bottom: 0;padding: 0.3em;box-sizing: border-box;text-align: center;}#sk-container-id-8 label.sk-toggleable__label-arrow:before {content: \"▸\";float: left;margin-right: 0.25em;color: #696969;}#sk-container-id-8 label.sk-toggleable__label-arrow:hover:before {color: black;}#sk-container-id-8 div.sk-estimator:hover label.sk-toggleable__label-arrow:before {color: black;}#sk-container-id-8 div.sk-toggleable__content {max-height: 0;max-width: 0;overflow: hidden;text-align: left;background-color: #f0f8ff;}#sk-container-id-8 div.sk-toggleable__content pre {margin: 0.2em;color: black;border-radius: 0.25em;background-color: #f0f8ff;}#sk-container-id-8 input.sk-toggleable__control:checked~div.sk-toggleable__content {max-height: 200px;max-width: 100%;overflow: auto;}#sk-container-id-8 input.sk-toggleable__control:checked~label.sk-toggleable__label-arrow:before {content: \"▾\";}#sk-container-id-8 div.sk-estimator input.sk-toggleable__control:checked~label.sk-toggleable__label {background-color: #d4ebff;}#sk-container-id-8 div.sk-label input.sk-toggleable__control:checked~label.sk-toggleable__label {background-color: #d4ebff;}#sk-container-id-8 input.sk-hidden--visually {border: 0;clip: rect(1px 1px 1px 1px);clip: rect(1px, 1px, 1px, 1px);height: 1px;margin: -1px;overflow: hidden;padding: 0;position: absolute;width: 1px;}#sk-container-id-8 div.sk-estimator {font-family: monospace;background-color: #f0f8ff;border: 1px dotted black;border-radius: 0.25em;box-sizing: border-box;margin-bottom: 0.5em;}#sk-container-id-8 div.sk-estimator:hover {background-color: #d4ebff;}#sk-container-id-8 div.sk-parallel-item::after {content: \"\";width: 100%;border-bottom: 1px solid gray;flex-grow: 1;}#sk-container-id-8 div.sk-label:hover label.sk-toggleable__label {background-color: #d4ebff;}#sk-container-id-8 div.sk-serial::before {content: \"\";position: absolute;border-left: 1px solid gray;box-sizing: border-box;top: 0;bottom: 0;left: 50%;z-index: 0;}#sk-container-id-8 div.sk-serial {display: flex;flex-direction: column;align-items: center;background-color: white;padding-right: 0.2em;padding-left: 0.2em;position: relative;}#sk-container-id-8 div.sk-item {position: relative;z-index: 1;}#sk-container-id-8 div.sk-parallel {display: flex;align-items: stretch;justify-content: center;background-color: white;position: relative;}#sk-container-id-8 div.sk-item::before, #sk-container-id-8 div.sk-parallel-item::before {content: \"\";position: absolute;border-left: 1px solid gray;box-sizing: border-box;top: 0;bottom: 0;left: 50%;z-index: -1;}#sk-container-id-8 div.sk-parallel-item {display: flex;flex-direction: column;z-index: 1;position: relative;background-color: white;}#sk-container-id-8 div.sk-parallel-item:first-child::after {align-self: flex-end;width: 50%;}#sk-container-id-8 div.sk-parallel-item:last-child::after {align-self: flex-start;width: 50%;}#sk-container-id-8 div.sk-parallel-item:only-child::after {width: 0;}#sk-container-id-8 div.sk-dashed-wrapped {border: 1px dashed gray;margin: 0 0.4em 0.5em 0.4em;box-sizing: border-box;padding-bottom: 0.4em;background-color: white;}#sk-container-id-8 div.sk-label label {font-family: monospace;font-weight: bold;display: inline-block;line-height: 1.2em;}#sk-container-id-8 div.sk-label-container {text-align: center;}#sk-container-id-8 div.sk-container {/* jupyter's `normalize.less` sets `[hidden] { display: none; }` but bootstrap.min.css set `[hidden] { display: none !important; }` so we also need the `!important` here to be able to override the default hidden behavior on the sphinx rendered scikit-learn.org. See: https://github.com/scikit-learn/scikit-learn/issues/21755 */display: inline-block !important;position: relative;}#sk-container-id-8 div.sk-text-repr-fallback {display: none;}</style><div id=\"sk-container-id-8\" class=\"sk-top-container\"><div class=\"sk-text-repr-fallback\"><pre>KNeighborsRegressor()</pre><b>In a Jupyter environment, please rerun this cell to show the HTML representation or trust the notebook. <br />On GitHub, the HTML representation is unable to render, please try loading this page with nbviewer.org.</b></div><div class=\"sk-container\" hidden><div class=\"sk-item\"><div class=\"sk-estimator sk-toggleable\"><input class=\"sk-toggleable__control sk-hidden--visually\" id=\"sk-estimator-id-10\" type=\"checkbox\" checked><label for=\"sk-estimator-id-10\" class=\"sk-toggleable__label sk-toggleable__label-arrow\">KNeighborsRegressor</label><div class=\"sk-toggleable__content\"><pre>KNeighborsRegressor()</pre></div></div></div></div></div>"
            ],
            "text/plain": [
              "KNeighborsRegressor()"
            ]
          },
          "execution_count": 114,
          "metadata": {},
          "output_type": "execute_result"
        }
      ],
      "source": [
        "from sklearn.neighbors import KNeighborsRegressor\n",
        "\n",
        "model10 = KNeighborsRegressor()\n",
        "model10.fit(xtrain, ytrain)"
      ]
    },
    {
      "cell_type": "code",
      "execution_count": null,
      "id": "bb90fcaa",
      "metadata": {
        "id": "bb90fcaa",
        "outputId": "abcc7131-fd1e-4f34-a644-6ec2d5d76d84"
      },
      "outputs": [
        {
          "data": {
            "text/plain": [
              "0.24069399401100422"
            ]
          },
          "execution_count": 115,
          "metadata": {},
          "output_type": "execute_result"
        }
      ],
      "source": [
        "sc10tr = model10.score(xtrain, ytrain)\n",
        "sc10tr"
      ]
    },
    {
      "cell_type": "code",
      "execution_count": null,
      "id": "d42eb55b",
      "metadata": {
        "id": "d42eb55b",
        "outputId": "0919bc82-688d-4f10-f286-b7d9e4a78da0"
      },
      "outputs": [
        {
          "data": {
            "text/plain": [
              "-0.12588821980629095"
            ]
          },
          "execution_count": 116,
          "metadata": {},
          "output_type": "execute_result"
        }
      ],
      "source": [
        "sc10ts = model10.score(xtest, ytest)\n",
        "sc10ts"
      ]
    },
    {
      "cell_type": "code",
      "execution_count": null,
      "id": "79c486c0",
      "metadata": {
        "id": "79c486c0"
      },
      "outputs": [],
      "source": [
        "#adding values for performance report\n",
        "count = count + 1"
      ]
    },
    {
      "cell_type": "markdown",
      "id": "70d4160e",
      "metadata": {
        "id": "70d4160e"
      },
      "source": [
        "#### 11) LGBMBoost"
      ]
    },
    {
      "cell_type": "code",
      "execution_count": null,
      "id": "b6cb7d40",
      "metadata": {
        "id": "b6cb7d40",
        "outputId": "492c3c87-e03c-463f-c4bf-c577712adb12"
      },
      "outputs": [
        {
          "data": {
            "text/html": [
              "<style>#sk-container-id-9 {color: black;background-color: white;}#sk-container-id-9 pre{padding: 0;}#sk-container-id-9 div.sk-toggleable {background-color: white;}#sk-container-id-9 label.sk-toggleable__label {cursor: pointer;display: block;width: 100%;margin-bottom: 0;padding: 0.3em;box-sizing: border-box;text-align: center;}#sk-container-id-9 label.sk-toggleable__label-arrow:before {content: \"▸\";float: left;margin-right: 0.25em;color: #696969;}#sk-container-id-9 label.sk-toggleable__label-arrow:hover:before {color: black;}#sk-container-id-9 div.sk-estimator:hover label.sk-toggleable__label-arrow:before {color: black;}#sk-container-id-9 div.sk-toggleable__content {max-height: 0;max-width: 0;overflow: hidden;text-align: left;background-color: #f0f8ff;}#sk-container-id-9 div.sk-toggleable__content pre {margin: 0.2em;color: black;border-radius: 0.25em;background-color: #f0f8ff;}#sk-container-id-9 input.sk-toggleable__control:checked~div.sk-toggleable__content {max-height: 200px;max-width: 100%;overflow: auto;}#sk-container-id-9 input.sk-toggleable__control:checked~label.sk-toggleable__label-arrow:before {content: \"▾\";}#sk-container-id-9 div.sk-estimator input.sk-toggleable__control:checked~label.sk-toggleable__label {background-color: #d4ebff;}#sk-container-id-9 div.sk-label input.sk-toggleable__control:checked~label.sk-toggleable__label {background-color: #d4ebff;}#sk-container-id-9 input.sk-hidden--visually {border: 0;clip: rect(1px 1px 1px 1px);clip: rect(1px, 1px, 1px, 1px);height: 1px;margin: -1px;overflow: hidden;padding: 0;position: absolute;width: 1px;}#sk-container-id-9 div.sk-estimator {font-family: monospace;background-color: #f0f8ff;border: 1px dotted black;border-radius: 0.25em;box-sizing: border-box;margin-bottom: 0.5em;}#sk-container-id-9 div.sk-estimator:hover {background-color: #d4ebff;}#sk-container-id-9 div.sk-parallel-item::after {content: \"\";width: 100%;border-bottom: 1px solid gray;flex-grow: 1;}#sk-container-id-9 div.sk-label:hover label.sk-toggleable__label {background-color: #d4ebff;}#sk-container-id-9 div.sk-serial::before {content: \"\";position: absolute;border-left: 1px solid gray;box-sizing: border-box;top: 0;bottom: 0;left: 50%;z-index: 0;}#sk-container-id-9 div.sk-serial {display: flex;flex-direction: column;align-items: center;background-color: white;padding-right: 0.2em;padding-left: 0.2em;position: relative;}#sk-container-id-9 div.sk-item {position: relative;z-index: 1;}#sk-container-id-9 div.sk-parallel {display: flex;align-items: stretch;justify-content: center;background-color: white;position: relative;}#sk-container-id-9 div.sk-item::before, #sk-container-id-9 div.sk-parallel-item::before {content: \"\";position: absolute;border-left: 1px solid gray;box-sizing: border-box;top: 0;bottom: 0;left: 50%;z-index: -1;}#sk-container-id-9 div.sk-parallel-item {display: flex;flex-direction: column;z-index: 1;position: relative;background-color: white;}#sk-container-id-9 div.sk-parallel-item:first-child::after {align-self: flex-end;width: 50%;}#sk-container-id-9 div.sk-parallel-item:last-child::after {align-self: flex-start;width: 50%;}#sk-container-id-9 div.sk-parallel-item:only-child::after {width: 0;}#sk-container-id-9 div.sk-dashed-wrapped {border: 1px dashed gray;margin: 0 0.4em 0.5em 0.4em;box-sizing: border-box;padding-bottom: 0.4em;background-color: white;}#sk-container-id-9 div.sk-label label {font-family: monospace;font-weight: bold;display: inline-block;line-height: 1.2em;}#sk-container-id-9 div.sk-label-container {text-align: center;}#sk-container-id-9 div.sk-container {/* jupyter's `normalize.less` sets `[hidden] { display: none; }` but bootstrap.min.css set `[hidden] { display: none !important; }` so we also need the `!important` here to be able to override the default hidden behavior on the sphinx rendered scikit-learn.org. See: https://github.com/scikit-learn/scikit-learn/issues/21755 */display: inline-block !important;position: relative;}#sk-container-id-9 div.sk-text-repr-fallback {display: none;}</style><div id=\"sk-container-id-9\" class=\"sk-top-container\"><div class=\"sk-text-repr-fallback\"><pre>LGBMRegressor(random_state=42)</pre><b>In a Jupyter environment, please rerun this cell to show the HTML representation or trust the notebook. <br />On GitHub, the HTML representation is unable to render, please try loading this page with nbviewer.org.</b></div><div class=\"sk-container\" hidden><div class=\"sk-item\"><div class=\"sk-estimator sk-toggleable\"><input class=\"sk-toggleable__control sk-hidden--visually\" id=\"sk-estimator-id-11\" type=\"checkbox\" checked><label for=\"sk-estimator-id-11\" class=\"sk-toggleable__label sk-toggleable__label-arrow\">LGBMRegressor</label><div class=\"sk-toggleable__content\"><pre>LGBMRegressor(random_state=42)</pre></div></div></div></div></div>"
            ],
            "text/plain": [
              "LGBMRegressor(random_state=42)"
            ]
          },
          "execution_count": 118,
          "metadata": {},
          "output_type": "execute_result"
        }
      ],
      "source": [
        "from lightgbm import LGBMRegressor\n",
        "\n",
        "model11 = LGBMRegressor(random_state= rdst)\n",
        "model11.fit(xtrain, ytrain)"
      ]
    },
    {
      "cell_type": "code",
      "execution_count": null,
      "id": "9ff6d770",
      "metadata": {
        "id": "9ff6d770",
        "outputId": "4dd6b6f2-0293-4e10-9e50-8e5b1847f1d0"
      },
      "outputs": [
        {
          "data": {
            "text/plain": [
              "0.8125874953699608"
            ]
          },
          "execution_count": 119,
          "metadata": {},
          "output_type": "execute_result"
        }
      ],
      "source": [
        "sc11tr = model11.score(xtrain, ytrain)\n",
        "sc11tr"
      ]
    },
    {
      "cell_type": "code",
      "execution_count": null,
      "id": "9d16a150",
      "metadata": {
        "id": "9d16a150",
        "outputId": "49e41921-0653-4176-d4a4-71a40b5bc3c8"
      },
      "outputs": [
        {
          "data": {
            "text/plain": [
              "0.7739054555605506"
            ]
          },
          "execution_count": 120,
          "metadata": {},
          "output_type": "execute_result"
        }
      ],
      "source": [
        "sc11ts = model11.score(xtest, ytest)\n",
        "sc11ts "
      ]
    },
    {
      "cell_type": "code",
      "execution_count": null,
      "id": "b1627fb6",
      "metadata": {
        "id": "b1627fb6"
      },
      "outputs": [],
      "source": [
        "#adding values for performance report\n",
        "count = count + 1"
      ]
    },
    {
      "cell_type": "markdown",
      "id": "759038d9",
      "metadata": {
        "id": "759038d9"
      },
      "source": [
        "#### 12) CatBoostRegressor"
      ]
    },
    {
      "cell_type": "raw",
      "id": "c56de0e8",
      "metadata": {
        "id": "c56de0e8"
      },
      "source": [
        "from catboost import CatBoostRegressor\n",
        "\n",
        "model12 = CatBoostRegressor(random_state= 42)\n",
        "model12.fit(xtrain, ytrain)"
      ]
    },
    {
      "cell_type": "raw",
      "id": "dd814cbc",
      "metadata": {
        "id": "dd814cbc"
      },
      "source": [
        "sc12tr = model12.score(xtrain, ytrain)\n",
        "sc12tr"
      ]
    },
    {
      "cell_type": "raw",
      "id": "554ad4ed",
      "metadata": {
        "id": "554ad4ed"
      },
      "source": [
        "sc12ts = model12.score(xtest, ytest)\n",
        "sc12ts"
      ]
    },
    {
      "cell_type": "code",
      "execution_count": null,
      "id": "17bf557d",
      "metadata": {
        "id": "17bf557d"
      },
      "outputs": [],
      "source": [
        "#adding values for performance report\n",
        "count = count + 1"
      ]
    },
    {
      "cell_type": "markdown",
      "id": "351e8ca3",
      "metadata": {
        "id": "351e8ca3"
      },
      "source": [
        "#### 13) XGBoostRegressor"
      ]
    },
    {
      "cell_type": "code",
      "execution_count": null,
      "id": "78c0cef2",
      "metadata": {
        "id": "78c0cef2",
        "outputId": "f91fc6d1-7c3f-4160-c4e9-bfadbc9ec76a"
      },
      "outputs": [],
      "source": [
        "from xgboost.sklearn import XGBRegressor\n",
        "\n",
        "model13 = XGBRegressor(random_state= rdst)\n",
        "model13.fit(xtrain, ytrain)"
      ]
    },
    {
      "cell_type": "code",
      "execution_count": null,
      "id": "3723ace1",
      "metadata": {
        "id": "3723ace1",
        "outputId": "38c0f5d7-69ec-44fa-818f-ce999503d144"
      },
      "outputs": [
        {
          "data": {
            "text/plain": [
              "0.9087513469662362"
            ]
          },
          "execution_count": 127,
          "metadata": {},
          "output_type": "execute_result"
        }
      ],
      "source": [
        "sc13tr = model13.score(xtrain, ytrain)\n",
        "sc13tr"
      ]
    },
    {
      "cell_type": "code",
      "execution_count": null,
      "id": "9a18aacc",
      "metadata": {
        "id": "9a18aacc",
        "outputId": "ed6e9cd5-dae2-47e9-ac83-4ce7bf734301"
      },
      "outputs": [
        {
          "data": {
            "text/plain": [
              "0.7691877829932929"
            ]
          },
          "execution_count": 128,
          "metadata": {},
          "output_type": "execute_result"
        }
      ],
      "source": [
        "sc13ts = model13.score(xtest, ytest)\n",
        "sc13ts "
      ]
    },
    {
      "cell_type": "code",
      "execution_count": null,
      "id": "0fdc4cb6",
      "metadata": {
        "id": "0fdc4cb6"
      },
      "outputs": [],
      "source": [
        "#adding values for performance report\n",
        "count = count + 1"
      ]
    },
    {
      "cell_type": "markdown",
      "id": "9f5d2163",
      "metadata": {
        "id": "9f5d2163"
      },
      "source": [
        "### Performance of Algorithms"
      ]
    },
    {
      "cell_type": "code",
      "execution_count": null,
      "id": "f8868531",
      "metadata": {
        "id": "f8868531"
      },
      "outputs": [],
      "source": [
        "mnumber = list()\n",
        "mname = list()\n",
        "trains = list()\n",
        "tests = list()"
      ]
    },
    {
      "cell_type": "code",
      "execution_count": null,
      "id": "a426f78a",
      "metadata": {
        "id": "a426f78a"
      },
      "outputs": [],
      "source": [
        "mnumber.extend(np.arange(1,count+1))\n",
        "\n",
        "mname.extend([\"DecisionTreeRegressor\",\"SVM\",\"SGDRegressor\",\"BaggingRegressor\",\"AdaBoostRegressor\",\"GradientBoostingRegressor\",\n",
        "                 \"RandomForestRegressor\",\"SimpleLinearRegression\",\"GausianRegressor\",\"K nearest neighbour\",\"LGBMBoost\",\n",
        "                 \"CatBoostRegressor\",\"XGBRegressor\"])\n",
        "\n",
        "trains.extend([sc1tr,sc2tr,sc3tr,sc4tr,sc5tr,sc6tr,sc7tr,sc8tr,sc9tr,sc10tr,sc11tr,sc12tr,sc13tr])\n",
        "\n",
        "tests.extend([sc1ts,sc2ts,sc3ts,sc4ts,sc5ts,sc6ts,sc7ts,sc8ts,sc9ts,sc10ts,sc11ts,sc12ts,sc13ts])"
      ]
    },
    {
      "cell_type": "code",
      "execution_count": null,
      "id": "deeccde9",
      "metadata": {
        "id": "deeccde9"
      },
      "outputs": [],
      "source": [
        "# Rounding percentages to two decimals and checking if model was executed\n",
        "\n",
        "def myfunc(x):\n",
        "    x = x * 100\n",
        "    return format(x,\".2f\")\n",
        "\n",
        "def executed(x):\n",
        "    if x == '0.00':\n",
        "        x = 'Not Executed'\n",
        "    return x"
      ]
    },
    {
      "cell_type": "code",
      "execution_count": null,
      "id": "3be839c8",
      "metadata": {
        "id": "3be839c8"
      },
      "outputs": [],
      "source": [
        "trains = list(map(myfunc, trains))"
      ]
    },
    {
      "cell_type": "code",
      "execution_count": null,
      "id": "1fc194a4",
      "metadata": {
        "id": "1fc194a4"
      },
      "outputs": [],
      "source": [
        "trains = list(map(executed, trains))"
      ]
    },
    {
      "cell_type": "code",
      "execution_count": null,
      "id": "6944fded",
      "metadata": {
        "id": "6944fded"
      },
      "outputs": [],
      "source": [
        "tests = list(map(myfunc, tests))"
      ]
    },
    {
      "cell_type": "code",
      "execution_count": null,
      "id": "62b0b547",
      "metadata": {
        "id": "62b0b547"
      },
      "outputs": [],
      "source": [
        "tests = list(map(executed, tests))"
      ]
    },
    {
      "cell_type": "code",
      "execution_count": null,
      "id": "cc970b47",
      "metadata": {
        "id": "cc970b47"
      },
      "outputs": [],
      "source": [
        "results_dict = {\"Model No.\": mnumber, \"Model name\": mname,\n",
        "               \"Training Accuracy\": trains, \"Testing Accuracy\": tests}"
      ]
    },
    {
      "cell_type": "code",
      "execution_count": null,
      "id": "90a825da",
      "metadata": {
        "id": "90a825da",
        "outputId": "3f9a0041-3af5-4822-eed0-e046bd2b16e3"
      },
      "outputs": [
        {
          "data": {
            "text/html": [
              "<div>\n",
              "<style scoped>\n",
              "    .dataframe tbody tr th:only-of-type {\n",
              "        vertical-align: middle;\n",
              "    }\n",
              "\n",
              "    .dataframe tbody tr th {\n",
              "        vertical-align: top;\n",
              "    }\n",
              "\n",
              "    .dataframe thead th {\n",
              "        text-align: right;\n",
              "    }\n",
              "</style>\n",
              "<table border=\"1\" class=\"dataframe\">\n",
              "  <thead>\n",
              "    <tr style=\"text-align: right;\">\n",
              "      <th></th>\n",
              "      <th>Model No.</th>\n",
              "      <th>Model name</th>\n",
              "      <th>Training Accuracy</th>\n",
              "      <th>Testing Accuracy</th>\n",
              "    </tr>\n",
              "  </thead>\n",
              "  <tbody>\n",
              "    <tr>\n",
              "      <th>0</th>\n",
              "      <td>1</td>\n",
              "      <td>DecisionTreeRegressor</td>\n",
              "      <td>60.28</td>\n",
              "      <td>57.86</td>\n",
              "    </tr>\n",
              "    <tr>\n",
              "      <th>1</th>\n",
              "      <td>2</td>\n",
              "      <td>SVM</td>\n",
              "      <td>Not Executed</td>\n",
              "      <td>Not Executed</td>\n",
              "    </tr>\n",
              "    <tr>\n",
              "      <th>2</th>\n",
              "      <td>3</td>\n",
              "      <td>SGDRegressor</td>\n",
              "      <td>-438876770370259651657728.00</td>\n",
              "      <td>-388649030645497173377024.00</td>\n",
              "    </tr>\n",
              "    <tr>\n",
              "      <th>3</th>\n",
              "      <td>4</td>\n",
              "      <td>BaggingRegressor</td>\n",
              "      <td>65.23</td>\n",
              "      <td>63.36</td>\n",
              "    </tr>\n",
              "    <tr>\n",
              "      <th>4</th>\n",
              "      <td>5</td>\n",
              "      <td>AdaBoostRegressor</td>\n",
              "      <td>-222.72</td>\n",
              "      <td>-233.03</td>\n",
              "    </tr>\n",
              "    <tr>\n",
              "      <th>5</th>\n",
              "      <td>6</td>\n",
              "      <td>GradientBoostingRegressor</td>\n",
              "      <td>77.27</td>\n",
              "      <td>72.90</td>\n",
              "    </tr>\n",
              "    <tr>\n",
              "      <th>6</th>\n",
              "      <td>7</td>\n",
              "      <td>RandomForestRegressor</td>\n",
              "      <td>93.38</td>\n",
              "      <td>78.35</td>\n",
              "    </tr>\n",
              "    <tr>\n",
              "      <th>7</th>\n",
              "      <td>8</td>\n",
              "      <td>SimpleLinearRegression</td>\n",
              "      <td>0.25</td>\n",
              "      <td>0.26</td>\n",
              "    </tr>\n",
              "    <tr>\n",
              "      <th>8</th>\n",
              "      <td>9</td>\n",
              "      <td>GausianRegressor</td>\n",
              "      <td>Not Executed</td>\n",
              "      <td>Not Executed</td>\n",
              "    </tr>\n",
              "    <tr>\n",
              "      <th>9</th>\n",
              "      <td>10</td>\n",
              "      <td>K nearest neighbour</td>\n",
              "      <td>24.07</td>\n",
              "      <td>-12.59</td>\n",
              "    </tr>\n",
              "    <tr>\n",
              "      <th>10</th>\n",
              "      <td>11</td>\n",
              "      <td>LGBMBoost</td>\n",
              "      <td>81.26</td>\n",
              "      <td>77.39</td>\n",
              "    </tr>\n",
              "    <tr>\n",
              "      <th>11</th>\n",
              "      <td>12</td>\n",
              "      <td>CatBoostRegressor</td>\n",
              "      <td>Not Executed</td>\n",
              "      <td>Not Executed</td>\n",
              "    </tr>\n",
              "    <tr>\n",
              "      <th>12</th>\n",
              "      <td>13</td>\n",
              "      <td>XGBRegressor</td>\n",
              "      <td>90.88</td>\n",
              "      <td>76.92</td>\n",
              "    </tr>\n",
              "  </tbody>\n",
              "</table>\n",
              "</div>"
            ],
            "text/plain": [
              "    Model No.                 Model name             Training Accuracy  \\\n",
              "0           1      DecisionTreeRegressor                         60.28   \n",
              "1           2                        SVM                  Not Executed   \n",
              "2           3               SGDRegressor  -438876770370259651657728.00   \n",
              "3           4           BaggingRegressor                         65.23   \n",
              "4           5          AdaBoostRegressor                       -222.72   \n",
              "5           6  GradientBoostingRegressor                         77.27   \n",
              "6           7      RandomForestRegressor                         93.38   \n",
              "7           8     SimpleLinearRegression                          0.25   \n",
              "8           9           GausianRegressor                  Not Executed   \n",
              "9          10        K nearest neighbour                         24.07   \n",
              "10         11                  LGBMBoost                         81.26   \n",
              "11         12          CatBoostRegressor                  Not Executed   \n",
              "12         13               XGBRegressor                         90.88   \n",
              "\n",
              "                Testing Accuracy  \n",
              "0                          57.86  \n",
              "1                   Not Executed  \n",
              "2   -388649030645497173377024.00  \n",
              "3                          63.36  \n",
              "4                        -233.03  \n",
              "5                          72.90  \n",
              "6                          78.35  \n",
              "7                           0.26  \n",
              "8                   Not Executed  \n",
              "9                         -12.59  \n",
              "10                         77.39  \n",
              "11                  Not Executed  \n",
              "12                         76.92  "
            ]
          },
          "execution_count": 144,
          "metadata": {},
          "output_type": "execute_result"
        }
      ],
      "source": [
        "perf = pd.DataFrame(results_dict)\n",
        "perf"
      ]
    }
  ],
  "metadata": {
    "colab": {
      "provenance": []
    },
    "kernelspec": {
      "display_name": "Python 3 (ipykernel)",
      "language": "python",
      "name": "python3"
    },
    "language_info": {
      "codemirror_mode": {
        "name": "ipython",
        "version": 3
      },
      "file_extension": ".py",
      "mimetype": "text/x-python",
      "name": "python",
      "nbconvert_exporter": "python",
      "pygments_lexer": "ipython3",
      "version": "3.9.7"
    }
  },
  "nbformat": 4,
  "nbformat_minor": 5
}
